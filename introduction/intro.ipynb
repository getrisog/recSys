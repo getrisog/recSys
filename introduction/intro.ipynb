{
 "cells": [
  {
   "cell_type": "code",
   "execution_count": 1,
   "metadata": {},
   "outputs": [],
   "source": [
    "critics = {\n",
    "    \"Lisa Rose\": {\n",
    "        \"Lady in the Water\": 2.5,\n",
    "        \"Snakes on a Plane\": 3.5,\n",
    "        \"Just My Luck\": 3.0,\n",
    "        \"Superman Returns\": 3.5,\n",
    "        \"You, Me and Dupree\": 2.5,\n",
    "        \"The Night Listener\": 3.0,\n",
    "    },\n",
    "    \"Gene Seymour\": {\n",
    "        \"Lady in the Water\": 3.0,\n",
    "        \"Snakes on a Plane\": 3.5,\n",
    "        \"Just My Luck\": 1.5,\n",
    "        \"Superman Returns\": 5.0,\n",
    "        \"The Night Listener\": 3.0,\n",
    "        \"You, Me and Dupree\": 3.5,\n",
    "    },\n",
    "    \"Michael Phillips\": {\n",
    "        \"Lady in the Water\": 2.5,\n",
    "        \"Snakes on a Plane\": 3.0,\n",
    "        \"Superman Returns\": 3.5,\n",
    "        \"The Night Listener\": 4.0,\n",
    "    },\n",
    "    \"Claudia Puig\": {\n",
    "        \"Snakes on a Plane\": 3.5,\n",
    "        \"Just My Luck\": 3.0,\n",
    "        \"The Night Listener\": 4.5,\n",
    "        \"Superman Returns\": 4.0,\n",
    "        \"You, Me and Dupree\": 2.5,\n",
    "    },\n",
    "    \"Mick LaSalle\": {\n",
    "        \"Lady in the Water\": 3.0,\n",
    "        \"Snakes on a Plane\": 4.0,\n",
    "        \"Just My Luck\": 2.0,\n",
    "        \"Superman Returns\": 3.0,\n",
    "        \"The Night Listener\": 3.0,\n",
    "        \"You, Me and Dupree\": 2.0,\n",
    "    },\n",
    "    \"Jack Matthews\": {\n",
    "        \"Lady in the Water\": 3.0,\n",
    "        \"Snakes on a Plane\": 4.0,\n",
    "        \"The Night Listener\": 3.0,\n",
    "        \"Superman Returns\": 5.0,\n",
    "        \"You, Me and Dupree\": 3.5,\n",
    "    },\n",
    "    \"Toby\": {\n",
    "        \"Snakes on a Plane\": 4.5,\n",
    "        \"You, Me and Dupree\": 1.0,\n",
    "        \"Superman Returns\": 4.0,\n",
    "    },\n",
    "}"
   ]
  },
  {
   "cell_type": "code",
   "execution_count": 2,
   "metadata": {},
   "outputs": [],
   "source": [
    "def similar_films(critics: dict, person1: str, person2: str):\n",
    "    \"\"\"Return list of films rated by both users\n",
    "\n",
    "    Args:\n",
    "        critics (dict): dict with names and films\n",
    "        person1 (str): name of the 1st critic\n",
    "        person2 (str): name of the 2nd critic\n",
    "    \"\"\"\n",
    "\n",
    "    sim_film = []\n",
    "    for film in critics[person1]:\n",
    "        if film in critics[person2]:\n",
    "            sim_film.append(film)\n",
    "\n",
    "    return sim_film"
   ]
  },
  {
   "cell_type": "code",
   "execution_count": 3,
   "metadata": {},
   "outputs": [],
   "source": [
    "def sim_distance(critics: dict, person1: str, person2: str) -> float:\n",
    "    \"\"\"Calculates euclidean distance based on critics' scores\n",
    "\n",
    "    Args:\n",
    "        critics (dict): dict with names and films\n",
    "        person1 (str): name of the 1st critic\n",
    "        person2 (str): name of the 2nd critic\n",
    "    \"\"\"\n",
    "    sim_films = similar_films(critics, person1, person2)\n",
    "    if len(sim_films) == 0:\n",
    "        return 0\n",
    "\n",
    "    sum_of_euclead_dist = 0\n",
    "\n",
    "    for film in sim_films:\n",
    "        sum_of_euclead_dist += (critics[person1][film] - critics[person2][film]) ** 2\n",
    "\n",
    "    return 1 / (1 + sum_of_euclead_dist)"
   ]
  },
  {
   "cell_type": "code",
   "execution_count": 4,
   "metadata": {},
   "outputs": [
    {
     "data": {
      "text/plain": [
       "0.2222222222222222"
      ]
     },
     "execution_count": 4,
     "metadata": {},
     "output_type": "execute_result"
    }
   ],
   "source": [
    "sim_distance(critics, \"Lisa Rose\", \"Toby\")"
   ]
  },
  {
   "cell_type": "code",
   "execution_count": 5,
   "metadata": {},
   "outputs": [],
   "source": [
    "import numpy as np"
   ]
  },
  {
   "cell_type": "code",
   "execution_count": 7,
   "metadata": {},
   "outputs": [
    {
     "data": {
      "text/plain": [
       "array([[1.   , 0.148, 0.444, 0.286, 0.333, 0.211, 0.222],\n",
       "       [0.148, 1.   , 0.211, 0.133, 0.129, 0.8  , 0.108],\n",
       "       [0.444, 0.211, 1.   , 0.571, 0.286, 0.182, 0.286],\n",
       "       [0.286, 0.133, 0.571, 1.   , 0.174, 0.182, 0.235],\n",
       "       [0.333, 0.129, 0.286, 0.174, 1.   , 0.138, 0.308],\n",
       "       [0.211, 0.8  , 0.182, 0.182, 0.138, 1.   , 0.118],\n",
       "       [0.222, 0.108, 0.286, 0.235, 0.308, 0.118, 1.   ]])"
      ]
     },
     "execution_count": 7,
     "metadata": {},
     "output_type": "execute_result"
    }
   ],
   "source": [
    "dist_sim_vals = np.zeros((len(critics), len(critics)))\n",
    "\n",
    "for i, source in enumerate(critics):\n",
    "    for j, refer in enumerate(critics):\n",
    "        dist_sim_vals[i, j] = sim_distance(critics, source, refer)\n",
    "\n",
    "dist_sim_vals.round(3)\n"
   ]
  },
  {
   "cell_type": "code",
   "execution_count": 8,
   "metadata": {},
   "outputs": [
    {
     "data": {
      "text/plain": [
       "(0.36752489116590864, 0.2993937425464388)"
      ]
     },
     "execution_count": 8,
     "metadata": {},
     "output_type": "execute_result"
    }
   ],
   "source": [
    "dist_sim_vals.mean(), dist_sim_vals.std()"
   ]
  },
  {
   "cell_type": "code",
   "execution_count": 14,
   "metadata": {},
   "outputs": [
    {
     "data": {
      "text/plain": [
       "array([0.148, 0.444, 0.211, 0.286, 0.133, 0.571, 0.333, 0.129, 0.286,\n",
       "       0.174, 0.211, 0.8  , 0.182, 0.182, 0.138, 0.222, 0.108, 0.286,\n",
       "       0.235, 0.308, 0.118])"
      ]
     },
     "execution_count": 14,
     "metadata": {},
     "output_type": "execute_result"
    }
   ],
   "source": [
    "triangle_mask = np.tri(len(critics), k=-1, dtype=np.bool_)\n",
    "\n",
    "norm_dist_vals = dist_sim_vals[triangle_mask]\n",
    "\n",
    "norm_dist_vals.round(3)\n"
   ]
  },
  {
   "cell_type": "code",
   "execution_count": 15,
   "metadata": {},
   "outputs": [],
   "source": [
    "import matplotlib.pyplot as plt\n",
    "\n",
    "\n",
    "def plot_pdf(values: np.ndarray, title: str):\n",
    "    \"\"\"Plots `values` distribution density\"\"\"\n",
    "    plt.figure(figsize=(10, 5))\n",
    "    plt.violinplot(values.flatten(), vert=False, showmedians=True)\n",
    "    plt.xlabel(\"Similarity\")\n",
    "    plt.grid()\n",
    "    plt.title(title)\n",
    "    plt.show()\n"
   ]
  },
  {
   "cell_type": "code",
   "execution_count": 16,
   "metadata": {},
   "outputs": [
    {
     "data": {
      "image/png": "[encoded data removed]",
      "text/plain": [
       "<Figure size 1000x500 with 1 Axes>"
      ]
     },
     "metadata": {},
     "output_type": "display_data"
    }
   ],
   "source": [
    "plot_pdf(dist_sim_vals, \"Euclidian similarity distribution\")"
   ]
  },
  {
   "cell_type": "code",
   "execution_count": 17,
   "metadata": {},
   "outputs": [
    {
     "data": {
      "image/png": "[encoded data removed]",
      "text/plain": [
       "<Figure size 1000x500 with 1 Axes>"
      ]
     },
     "metadata": {},
     "output_type": "display_data"
    }
   ],
   "source": [
    "plot_pdf(norm_dist_vals, \"Normalized euclidian similarity distribution\")"
   ]
  },
  {
   "cell_type": "code",
   "execution_count": 19,
   "metadata": {},
   "outputs": [],
   "source": [
    "from math import isnan\n",
    "\n",
    "from scipy.stats import pearsonr\n",
    "\n",
    "\n",
    "def sim_pearson(critics_dict, person1, person2):\n",
    "    \"\"\"Calculates pearson correlation based similarity between two persons\"\"\"\n",
    "\n",
    "    sim_films = similar_films(critics_dict, person1, person2)\n",
    "\n",
    "    if len(sim_films) < 2:\n",
    "        return 0\n",
    "\n",
    "    scores1 = []\n",
    "\n",
    "    scores2 = []\n",
    "\n",
    "    for film in sim_films:\n",
    "        scores1.append(critics_dict[person1][film])\n",
    "\n",
    "        scores2.append(critics_dict[person2][film])\n",
    "\n",
    "    correlation = pearsonr(scores1, scores2)[0]\n",
    "\n",
    "    if isnan(correlation):\n",
    "        return 0\n",
    "\n",
    "    return correlation\n"
   ]
  },
  {
   "cell_type": "code",
   "execution_count": 20,
   "metadata": {},
   "outputs": [
    {
     "data": {
      "text/plain": [
       "0.3960590171906697"
      ]
     },
     "execution_count": 20,
     "metadata": {},
     "output_type": "execute_result"
    }
   ],
   "source": [
    "sim_pearson(critics, \"Lisa Rose\", \"Gene Seymour\")"
   ]
  },
  {
   "cell_type": "code",
   "execution_count": 21,
   "metadata": {},
   "outputs": [
    {
     "data": {
      "text/plain": [
       "0.9912407071619302"
      ]
     },
     "execution_count": 21,
     "metadata": {},
     "output_type": "execute_result"
    }
   ],
   "source": [
    "sim_pearson(critics, \"Lisa Rose\", \"Toby\")"
   ]
  },
  {
   "cell_type": "code",
   "execution_count": 24,
   "metadata": {},
   "outputs": [
    {
     "data": {
      "text/plain": [
       "array([[ 1.   ,  0.396,  0.405,  0.567,  0.594,  0.747,  0.991],\n",
       "       [ 0.396,  1.   ,  0.205,  0.315,  0.412,  0.964,  0.381],\n",
       "       [ 0.405,  0.205,  1.   ,  1.   , -0.258,  0.135, -1.   ],\n",
       "       [ 0.567,  0.315,  1.   ,  1.   ,  0.567,  0.029,  0.893],\n",
       "       [ 0.594,  0.412, -0.258,  0.567,  1.   ,  0.211,  0.924],\n",
       "       [ 0.747,  0.964,  0.135,  0.029,  0.211,  1.   ,  0.663],\n",
       "       [ 0.991,  0.381, -1.   ,  0.893,  0.924,  0.663,  1.   ]])"
      ]
     },
     "execution_count": 24,
     "metadata": {},
     "output_type": "execute_result"
    }
   ],
   "source": [
    "dist_pear_vals = np.zeros((len(critics), len(critics)))\n",
    "\n",
    "for i, source in enumerate(critics):\n",
    "    for j, referer in enumerate(critics):\n",
    "        dist_pear_vals[i, j] = sim_pearson(critics, source, referer)\n",
    "\n",
    "dist_pear_vals.round(3)\n"
   ]
  },
  {
   "cell_type": "code",
   "execution_count": 25,
   "metadata": {},
   "outputs": [
    {
     "data": {
      "text/plain": [
       "(0.5159356584296166, 0.4713252827635987)"
      ]
     },
     "execution_count": 25,
     "metadata": {},
     "output_type": "execute_result"
    }
   ],
   "source": [
    "dist_pear_vals.mean(), dist_pear_vals.std()"
   ]
  },
  {
   "cell_type": "code",
   "execution_count": 27,
   "metadata": {},
   "outputs": [
    {
     "data": {
      "text/plain": [
       "array([ 0.396,  0.405,  0.205,  0.567,  0.315,  1.   ,  0.594,  0.412,\n",
       "       -0.258,  0.567,  0.747,  0.964,  0.135,  0.029,  0.211,  0.991,\n",
       "        0.381, -1.   ,  0.893,  0.924,  0.663])"
      ]
     },
     "execution_count": 27,
     "metadata": {},
     "output_type": "execute_result"
    }
   ],
   "source": [
    "triangle_mask = np.tri(len(critics), k=-1, dtype=np.bool_)\n",
    "\n",
    "norm_pear_sim_vals = dist_pear_vals[triangle_mask]\n",
    "\n",
    "norm_pear_sim_vals.round(3)\n"
   ]
  },
  {
   "cell_type": "code",
   "execution_count": 28,
   "metadata": {},
   "outputs": [
    {
     "data": {
      "text/plain": [
       "(0.43525826816788604, 0.4621798568790931)"
      ]
     },
     "execution_count": 28,
     "metadata": {},
     "output_type": "execute_result"
    }
   ],
   "source": [
    "norm_pear_sim_vals.mean(), norm_pear_sim_vals.std()"
   ]
  },
  {
   "cell_type": "code",
   "execution_count": 29,
   "metadata": {},
   "outputs": [
    {
     "data": {
      "image/png": "[encoded data removed]",
      "text/plain": [
       "<Figure size 1000x500 with 1 Axes>"
      ]
     },
     "metadata": {},
     "output_type": "display_data"
    }
   ],
   "source": [
    "plot_pdf(dist_pear_vals, \"Pearson similarity distribution\")\n"
   ]
  },
  {
   "cell_type": "code",
   "execution_count": 30,
   "metadata": {},
   "outputs": [
    {
     "data": {
      "image/png": "[encoded data removed]",
      "text/plain": [
       "<Figure size 1000x500 with 1 Axes>"
      ]
     },
     "metadata": {},
     "output_type": "display_data"
    }
   ],
   "source": [
    "plot_pdf(norm_pear_sim_vals, \"Normalized pearson similarity distribution\")"
   ]
  },
  {
   "cell_type": "code",
   "execution_count": 31,
   "metadata": {},
   "outputs": [],
   "source": [
    "from typing import Callable, List\n",
    "\n",
    "\n",
    "def top_matches(\n",
    "    critics: dict, person: str, n: int = 5, similarity_fn: Callable = sim_pearson\n",
    ") -> List[str]:\n",
    "    \"\"\"Top-n most similary critics\n",
    "\n",
    "\n",
    "\n",
    "    Args:\n",
    "\n",
    "        critics (dict): dict of critics\n",
    "\n",
    "        person (str): critic\n",
    "\n",
    "        n (int, optional): number of similar critics. Defaults to 5.\n",
    "\n",
    "        similarity_fn (Callable, optional): similarity function. Defaults to sim_pearson.\n",
    "\n",
    "\n",
    "\n",
    "    Returns:\n",
    "\n",
    "        List[str]: list of similar critics\n",
    "\n",
    "    \"\"\"\n",
    "    scores = []\n",
    "\n",
    "    for other in critics:\n",
    "        if other == person:\n",
    "            continue\n",
    "        similarity_score = similarity_fn(critics, person, other)\n",
    "        scores.append((similarity_score, other))\n",
    "    scores.sort(reverse=True)\n",
    "\n",
    "    return scores[:n]\n"
   ]
  },
  {
   "cell_type": "code",
   "execution_count": 32,
   "metadata": {},
   "outputs": [
    {
     "data": {
      "text/plain": [
       "[(0.9912407071619302, 'Lisa Rose'),\n",
       " (0.9244734516419049, 'Mick LaSalle'),\n",
       " (0.8934051474415643, 'Claudia Puig')]"
      ]
     },
     "execution_count": 32,
     "metadata": {},
     "output_type": "execute_result"
    }
   ],
   "source": [
    "top_matches(critics, \"Toby\", n=3, similarity_fn=sim_pearson)\n"
   ]
  },
  {
   "cell_type": "code",
   "execution_count": 33,
   "metadata": {},
   "outputs": [
    {
     "data": {
      "text/plain": [
       "[(0.3076923076923077, 'Mick LaSalle'),\n",
       " (0.2857142857142857, 'Michael Phillips'),\n",
       " (0.23529411764705882, 'Claudia Puig')]"
      ]
     },
     "execution_count": 33,
     "metadata": {},
     "output_type": "execute_result"
    }
   ],
   "source": [
    "top_matches(critics, \"Toby\", n=3, similarity_fn=sim_distance)\n"
   ]
  },
  {
   "cell_type": "code",
   "execution_count": 34,
   "metadata": {},
   "outputs": [],
   "source": [
    "def get_recommendations(prefs: dict, person: str, similarity: Callable = sim_pearson):\n",
    "    \"\"\"Calculates recommendations fof a 'person' using weighted mean from 'prefs'\n",
    "\n",
    "    Args:\n",
    "        prefs (dict): _description_\n",
    "        person (str): name of person\n",
    "        similarity (Callable, optional): _description_. Defaults to sim_pearson.\n",
    "    \"\"\"\n",
    "    totals = {}\n",
    "    sim_sums = {}\n",
    "\n",
    "    for other in prefs:\n",
    "        if other == person:\n",
    "            continue\n",
    "        sim = similarity(prefs, person, other)\n",
    "\n",
    "        if sim <= 0:\n",
    "            continue\n",
    "\n",
    "        for item in prefs[other]:\n",
    "            if item not in prefs[person] or prefs[person][item] == 0:\n",
    "                totals[item] = totals.get(item, 0) + prefs[other][item] * sim\n",
    "\n",
    "                sim_sums[item] = sim_sums.get(item, 0) + sim\n",
    "\n",
    "    rankings = [(total / sim_sums[item], item) for item, total in totals.items()]\n",
    "    rankings.sort(reverse=True)\n",
    "\n",
    "    return rankings\n"
   ]
  },
  {
   "cell_type": "code",
   "execution_count": 35,
   "metadata": {},
   "outputs": [
    {
     "data": {
      "text/plain": [
       "[(3.347789526713101, 'The Night Listener'),\n",
       " (2.832549918264162, 'Lady in the Water'),\n",
       " (2.530980703765565, 'Just My Luck')]"
      ]
     },
     "execution_count": 35,
     "metadata": {},
     "output_type": "execute_result"
    }
   ],
   "source": [
    "get_recommendations(critics, \"Toby\", sim_pearson)\n"
   ]
  },
  {
   "cell_type": "code",
   "execution_count": 36,
   "metadata": {},
   "outputs": [
    {
     "data": {
      "text/plain": [
       "{'Snakes on a Plane': 4.5, 'You, Me and Dupree': 1.0, 'Superman Returns': 4.0}"
      ]
     },
     "execution_count": 36,
     "metadata": {},
     "output_type": "execute_result"
    }
   ],
   "source": [
    "critics[\"Toby\"]\n"
   ]
  },
  {
   "cell_type": "code",
   "execution_count": 37,
   "metadata": {},
   "outputs": [
    {
     "data": {
      "text/plain": [
       "[(3.5002478401415877, 'The Night Listener'),\n",
       " (2.7561242939959363, 'Lady in the Water'),\n",
       " (2.461988486074374, 'Just My Luck')]"
      ]
     },
     "execution_count": 37,
     "metadata": {},
     "output_type": "execute_result"
    }
   ],
   "source": [
    "get_recommendations(critics, \"Toby\", sim_distance)\n"
   ]
  },
  {
   "cell_type": "code",
   "execution_count": 38,
   "metadata": {},
   "outputs": [],
   "source": [
    "def transform_prefs(critics: dict) -> dict:\n",
    "    \"\"\"Inverts nested dict of critics-film-scores into films-critics-scores dict\"\"\"\n",
    "    result = {}\n",
    "\n",
    "    for person in critics:\n",
    "        for item in critics[person]:\n",
    "            result.setdefault(item, {})\n",
    "            result[item][person] = critics[person][item]\n",
    "\n",
    "    return result\n"
   ]
  },
  {
   "cell_type": "code",
   "execution_count": 39,
   "metadata": {},
   "outputs": [],
   "source": [
    "def calculate_similar_items(\n",
    "    prefs: dict, n: int = 10, similarity_fn: Callable = sim_distance\n",
    "):\n",
    "    \"\"\"Creates a dict with most similar items for each item\"\"\"\n",
    "    result = {}\n",
    "    item_prefs = transform_prefs(prefs)\n",
    "\n",
    "    c = 0\n",
    "    for item in item_prefs:\n",
    "        c += 1\n",
    "\n",
    "        scores = top_matches(item_prefs, item, n=n, similarity_fn=similarity_fn)\n",
    "        result[item] = scores\n",
    "\n",
    "        if c % 100 == 0:\n",
    "            print(\"%d / %d\" % (c, len(item_prefs)))\n",
    "    return result\n"
   ]
  },
  {
   "cell_type": "code",
   "execution_count": 40,
   "metadata": {},
   "outputs": [],
   "source": [
    "itemsim_dist = calculate_similar_items(critics, n=10)\n",
    "itemsim_pears = calculate_similar_items(critics, n=10, similarity_fn=sim_pearson)\n"
   ]
  },
  {
   "cell_type": "code",
   "execution_count": 41,
   "metadata": {},
   "outputs": [],
   "source": [
    "import pprint\n",
    "\n",
    "pp = pprint.PrettyPrinter(indent=4)\n"
   ]
  },
  {
   "cell_type": "code",
   "execution_count": 42,
   "metadata": {},
   "outputs": [
    {
     "name": "stdout",
     "output_type": "stream",
     "text": [
      "{   'Just My Luck': [   (0.2222222222222222, 'Lady in the Water'),\n",
      "                        (0.18181818181818182, 'You, Me and Dupree'),\n",
      "                        (0.15384615384615385, 'The Night Listener'),\n",
      "                        (0.10526315789473684, 'Snakes on a Plane'),\n",
      "                        (0.06451612903225806, 'Superman Returns')],\n",
      "    'Lady in the Water': [   (0.4, 'You, Me and Dupree'),\n",
      "                             (0.2857142857142857, 'The Night Listener'),\n",
      "                             (0.2222222222222222, 'Snakes on a Plane'),\n",
      "                             (0.2222222222222222, 'Just My Luck'),\n",
      "                             (0.09090909090909091, 'Superman Returns')],\n",
      "    'Snakes on a Plane': [   (0.2222222222222222, 'Lady in the Water'),\n",
      "                             (0.18181818181818182, 'The Night Listener'),\n",
      "                             (0.16666666666666666, 'Superman Returns'),\n",
      "                             (0.10526315789473684, 'Just My Luck'),\n",
      "                             (0.05128205128205128, 'You, Me and Dupree')],\n",
      "    'Superman Returns': [   (0.16666666666666666, 'Snakes on a Plane'),\n",
      "                            (0.10256410256410256, 'The Night Listener'),\n",
      "                            (0.09090909090909091, 'Lady in the Water'),\n",
      "                            (0.06451612903225806, 'Just My Luck'),\n",
      "                            (0.05333333333333334, 'You, Me and Dupree')],\n",
      "    'The Night Listener': [   (0.2857142857142857, 'Lady in the Water'),\n",
      "                              (0.18181818181818182, 'Snakes on a Plane'),\n",
      "                              (0.15384615384615385, 'Just My Luck'),\n",
      "                              (0.14814814814814814, 'You, Me and Dupree'),\n",
      "                              (0.10256410256410256, 'Superman Returns')],\n",
      "    'You, Me and Dupree': [   (0.4, 'Lady in the Water'),\n",
      "                              (0.18181818181818182, 'Just My Luck'),\n",
      "                              (0.14814814814814814, 'The Night Listener'),\n",
      "                              (0.05333333333333334, 'Superman Returns'),\n",
      "                              (0.05128205128205128, 'Snakes on a Plane')]}\n"
     ]
    }
   ],
   "source": [
    "pp.pprint(itemsim_dist)"
   ]
  },
  {
   "cell_type": "code",
   "execution_count": 43,
   "metadata": {},
   "outputs": [
    {
     "data": {
      "text/plain": [
       "[(0.16666666666666666, 'Snakes on a Plane'),\n",
       " (0.10256410256410256, 'The Night Listener'),\n",
       " (0.09090909090909091, 'Lady in the Water'),\n",
       " (0.06451612903225806, 'Just My Luck'),\n",
       " (0.05333333333333334, 'You, Me and Dupree')]"
      ]
     },
     "execution_count": 43,
     "metadata": {},
     "output_type": "execute_result"
    }
   ],
   "source": [
    "itemsim_dist[\"Superman Returns\"]"
   ]
  },
  {
   "cell_type": "code",
   "execution_count": 49,
   "metadata": {},
   "outputs": [],
   "source": [
    "def get_recommended_items(prefs: dict, item_match: dict, user: str):\n",
    "    \"\"\"Calculate recommendations for 'user' using mean scores based on item similarity\"\"\"\n",
    "    user_ratings = prefs[user]\n",
    "    scores = {}\n",
    "    total_sim = {}\n",
    "\n",
    "    for item, rating in user_ratings.items():\n",
    "        for similarity, item2 in item_match[item]:\n",
    "            if item2 in user_ratings:\n",
    "                continue\n",
    "            scores[item2] = scores.get(item2, 0) + similarity * rating\n",
    "            total_sim[item2] = total_sim.get(item2, 0) + similarity\n",
    "            if total_sim[item2] == 0:\n",
    "                total_sim[item2] = 1e-7\n",
    "\n",
    "    rankings = [(score / total_sim[item], item) for item, score in scores.items()]\n",
    "\n",
    "    rankings.sort(reverse=True)\n",
    "\n",
    "    return rankings\n"
   ]
  },
  {
   "cell_type": "code",
   "execution_count": 50,
   "metadata": {},
   "outputs": [
    {
     "data": {
      "text/plain": [
       "{'Snakes on a Plane': 4.5, 'You, Me and Dupree': 1.0, 'Superman Returns': 4.0}"
      ]
     },
     "execution_count": 50,
     "metadata": {},
     "output_type": "execute_result"
    }
   ],
   "source": [
    "critics[\"Toby\"]\n"
   ]
  },
  {
   "cell_type": "code",
   "execution_count": 51,
   "metadata": {},
   "outputs": [
    {
     "data": {
      "text/plain": [
       "[(3.182634730538922, 'The Night Listener'),\n",
       " (2.5983318700614575, 'Just My Luck'),\n",
       " (2.4730878186968837, 'Lady in the Water')]"
      ]
     },
     "execution_count": 51,
     "metadata": {},
     "output_type": "execute_result"
    }
   ],
   "source": [
    "get_recommended_items(critics, itemsim_dist, \"Toby\")\n"
   ]
  },
  {
   "cell_type": "code",
   "execution_count": 52,
   "metadata": {},
   "outputs": [
    {
     "data": {
      "text/plain": [
       "[(3.6100310668021787, 'Lady in the Water'),\n",
       " (3.5313950341859823, 'The Night Listener'),\n",
       " (2.9609998607242685, 'Just My Luck')]"
      ]
     },
     "execution_count": 52,
     "metadata": {},
     "output_type": "execute_result"
    }
   ],
   "source": [
    "get_recommended_items(critics, itemsim_pears, \"Toby\")"
   ]
  }
 ],
 "metadata": {
  "kernelspec": {
   "display_name": "Python 3",
   "language": "python",
   "name": "python3"
  },
  "language_info": {
   "codemirror_mode": {
    "name": "ipython",
    "version": 3
   },
   "file_extension": ".py",
   "mimetype": "text/x-python",
   "name": "python",
   "nbconvert_exporter": "python",
   "pygments_lexer": "ipython3",
   "version": "3.12.2"
  }
 },
 "nbformat": 4,
 "nbformat_minor": 2
}
