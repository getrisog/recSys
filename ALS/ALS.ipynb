{
 "cells": [
  {
   "cell_type": "markdown",
   "id": "aaf10263",
   "metadata": {},
   "source": [
    "# ALS applications"
   ]
  },
  {
   "cell_type": "markdown",
   "id": "b7468264",
   "metadata": {},
   "source": [
    "## Dzen dataset\n",
    "\n",
    "Data comes from [dzen.ru](https://dzen.ru/) site and consists of likes which users put to text articles\n",
    "\n",
    "### Columns\n",
    "1. item_id - unique id of an item (article)\n",
    "2. user_id - unique id of a user\n",
    "3. source_id - unique id of an author. If two items have same source_id, then they come from one author\n",
    "4. Name of item is name of the article\n",
    "5. Raw dataset represents user_id and list of item_ids which user liked"
   ]
  },
  {
   "cell_type": "code",
   "execution_count": 2,
   "id": "51630f5f",
   "metadata": {
    "ExecuteTime": {
     "end_time": "2023-06-07T21:31:43.942096Z",
     "start_time": "2023-06-07T21:31:43.139524Z"
    },
    "execution": {
     "iopub.execute_input": "2024-03-21T10:51:45.412325Z",
     "iopub.status.busy": "2024-03-21T10:51:45.411479Z",
     "iopub.status.idle": "2024-03-21T10:51:45.790251Z",
     "shell.execute_reply": "2024-03-21T10:51:45.789486Z",
     "shell.execute_reply.started": "2024-03-21T10:51:45.412266Z"
    }
   },
   "outputs": [],
   "source": [
    "import numpy as np\n",
    "import pandas as pd\n",
    "import scipy.sparse as sp\n",
    "from tqdm.notebook import tqdm\n",
    "import ast"
   ]
  },
  {
   "cell_type": "code",
   "execution_count": 3,
   "id": "90965805",
   "metadata": {
    "ExecuteTime": {
     "end_time": "2023-06-07T21:31:45.414950Z",
     "start_time": "2023-06-07T21:31:44.581759Z"
    },
    "execution": {
     "iopub.execute_input": "2024-03-21T10:21:38.347864Z",
     "iopub.status.busy": "2024-03-21T10:21:38.346423Z",
     "iopub.status.idle": "2024-03-21T10:21:49.584167Z",
     "shell.execute_reply": "2024-03-21T10:21:49.583861Z",
     "shell.execute_reply.started": "2024-03-21T10:21:38.347806Z"
    }
   },
   "outputs": [],
   "source": [
    "item_names = pd.read_csv(\"zen_item_to_name.csv\")\n",
    "item_sources = pd.read_csv(\"zen_item_to_source.csv\")\n",
    "dataset = pd.read_csv(\"zen_ratings.csv\", converters={\"item_ids\": ast.literal_eval})"
   ]
  },
  {
   "cell_type": "code",
   "execution_count": 4,
   "id": "772f1375",
   "metadata": {
    "ExecuteTime": {
     "end_time": "2023-06-07T21:31:46.293533Z",
     "start_time": "2023-06-07T21:31:46.269174Z"
    },
    "execution": {
     "iopub.execute_input": "2024-03-21T10:24:26.237474Z",
     "iopub.status.busy": "2024-03-21T10:24:26.236626Z",
     "iopub.status.idle": "2024-03-21T10:24:26.257193Z",
     "shell.execute_reply": "2024-03-21T10:24:26.256761Z",
     "shell.execute_reply.started": "2024-03-21T10:24:26.237441Z"
    }
   },
   "outputs": [
    {
     "data": {
      "text/html": [
       "<div>\n",
       "<style scoped>\n",
       "    .dataframe tbody tr th:only-of-type {\n",
       "        vertical-align: middle;\n",
       "    }\n",
       "\n",
       "    .dataframe tbody tr th {\n",
       "        vertical-align: top;\n",
       "    }\n",
       "\n",
       "    .dataframe thead th {\n",
       "        text-align: right;\n",
       "    }\n",
       "</style>\n",
       "<table border=\"1\" class=\"dataframe\">\n",
       "  <thead>\n",
       "    <tr style=\"text-align: right;\">\n",
       "      <th></th>\n",
       "      <th>id</th>\n",
       "      <th>name</th>\n",
       "    </tr>\n",
       "  </thead>\n",
       "  <tbody>\n",
       "    <tr>\n",
       "      <th>0</th>\n",
       "      <td>94962</td>\n",
       "      <td>Что обычно ожидало русских казачек в руках у к...</td>\n",
       "    </tr>\n",
       "    <tr>\n",
       "      <th>1</th>\n",
       "      <td>3972</td>\n",
       "      <td>Почему Россия решила строить новую скоростную ...</td>\n",
       "    </tr>\n",
       "    <tr>\n",
       "      <th>2</th>\n",
       "      <td>94644</td>\n",
       "      <td>5 неприличных фактов об Андрее Макаревиче, кот...</td>\n",
       "    </tr>\n",
       "    <tr>\n",
       "      <th>3</th>\n",
       "      <td>82518</td>\n",
       "      <td>Что стало с красавицей Хмельницкой, которую му...</td>\n",
       "    </tr>\n",
       "    <tr>\n",
       "      <th>4</th>\n",
       "      <td>53264</td>\n",
       "      <td>Понять и Простить: Почему угонщики, бежавшие и...</td>\n",
       "    </tr>\n",
       "    <tr>\n",
       "      <th>...</th>\n",
       "      <td>...</td>\n",
       "      <td>...</td>\n",
       "    </tr>\n",
       "    <tr>\n",
       "      <th>104498</th>\n",
       "      <td>36769</td>\n",
       "      <td>Плюс один источник мифа о рыцарях, неспособных...</td>\n",
       "    </tr>\n",
       "    <tr>\n",
       "      <th>104499</th>\n",
       "      <td>9190</td>\n",
       "      <td>Мой сад - малоуходный</td>\n",
       "    </tr>\n",
       "    <tr>\n",
       "      <th>104500</th>\n",
       "      <td>52731</td>\n",
       "      <td>Купил первую в жизни циркулярную пилу. Честный...</td>\n",
       "    </tr>\n",
       "    <tr>\n",
       "      <th>104501</th>\n",
       "      <td>72660</td>\n",
       "      <td>Решили предложить Марине помощь в лечении ч.10</td>\n",
       "    </tr>\n",
       "    <tr>\n",
       "      <th>104502</th>\n",
       "      <td>53987</td>\n",
       "      <td>Мама и сестра меня предали, я с ними не общаюсь</td>\n",
       "    </tr>\n",
       "  </tbody>\n",
       "</table>\n",
       "<p>104503 rows × 2 columns</p>\n",
       "</div>"
      ],
      "text/plain": [
       "           id                                               name\n",
       "0       94962  Что обычно ожидало русских казачек в руках у к...\n",
       "1        3972  Почему Россия решила строить новую скоростную ...\n",
       "2       94644  5 неприличных фактов об Андрее Макаревиче, кот...\n",
       "3       82518  Что стало с красавицей Хмельницкой, которую му...\n",
       "4       53264  Понять и Простить: Почему угонщики, бежавшие и...\n",
       "...       ...                                                ...\n",
       "104498  36769  Плюс один источник мифа о рыцарях, неспособных...\n",
       "104499   9190                              Мой сад - малоуходный\n",
       "104500  52731  Купил первую в жизни циркулярную пилу. Честный...\n",
       "104501  72660     Решили предложить Марине помощь в лечении ч.10\n",
       "104502  53987    Мама и сестра меня предали, я с ними не общаюсь\n",
       "\n",
       "[104503 rows x 2 columns]"
      ]
     },
     "execution_count": 4,
     "metadata": {},
     "output_type": "execute_result"
    }
   ],
   "source": [
    "item_names"
   ]
  },
  {
   "cell_type": "code",
   "execution_count": 5,
   "id": "cb0aa9e5",
   "metadata": {
    "ExecuteTime": {
     "end_time": "2023-06-07T21:31:47.066054Z",
     "start_time": "2023-06-07T21:31:47.045452Z"
    },
    "execution": {
     "iopub.execute_input": "2024-03-21T10:24:26.901979Z",
     "iopub.status.busy": "2024-03-21T10:24:26.901318Z",
     "iopub.status.idle": "2024-03-21T10:24:26.918840Z",
     "shell.execute_reply": "2024-03-21T10:24:26.917465Z",
     "shell.execute_reply.started": "2024-03-21T10:24:26.901942Z"
    }
   },
   "outputs": [
    {
     "data": {
      "text/html": [
       "<div>\n",
       "<style scoped>\n",
       "    .dataframe tbody tr th:only-of-type {\n",
       "        vertical-align: middle;\n",
       "    }\n",
       "\n",
       "    .dataframe tbody tr th {\n",
       "        vertical-align: top;\n",
       "    }\n",
       "\n",
       "    .dataframe thead th {\n",
       "        text-align: right;\n",
       "    }\n",
       "</style>\n",
       "<table border=\"1\" class=\"dataframe\">\n",
       "  <thead>\n",
       "    <tr style=\"text-align: right;\">\n",
       "      <th></th>\n",
       "      <th>id</th>\n",
       "      <th>source</th>\n",
       "    </tr>\n",
       "  </thead>\n",
       "  <tbody>\n",
       "    <tr>\n",
       "      <th>0</th>\n",
       "      <td>94962</td>\n",
       "      <td>2919814402697966089</td>\n",
       "    </tr>\n",
       "    <tr>\n",
       "      <th>1</th>\n",
       "      <td>3972</td>\n",
       "      <td>3263022753228392991</td>\n",
       "    </tr>\n",
       "    <tr>\n",
       "      <th>2</th>\n",
       "      <td>94644</td>\n",
       "      <td>-3857390427602554682</td>\n",
       "    </tr>\n",
       "    <tr>\n",
       "      <th>3</th>\n",
       "      <td>82518</td>\n",
       "      <td>-9036908390349249792</td>\n",
       "    </tr>\n",
       "    <tr>\n",
       "      <th>4</th>\n",
       "      <td>53264</td>\n",
       "      <td>3353856219169766284</td>\n",
       "    </tr>\n",
       "    <tr>\n",
       "      <th>...</th>\n",
       "      <td>...</td>\n",
       "      <td>...</td>\n",
       "    </tr>\n",
       "    <tr>\n",
       "      <th>104498</th>\n",
       "      <td>36769</td>\n",
       "      <td>3818746211375738614</td>\n",
       "    </tr>\n",
       "    <tr>\n",
       "      <th>104499</th>\n",
       "      <td>9190</td>\n",
       "      <td>4975535765688979937</td>\n",
       "    </tr>\n",
       "    <tr>\n",
       "      <th>104500</th>\n",
       "      <td>52731</td>\n",
       "      <td>3720366796439288909</td>\n",
       "    </tr>\n",
       "    <tr>\n",
       "      <th>104501</th>\n",
       "      <td>72660</td>\n",
       "      <td>-7860042973720636310</td>\n",
       "    </tr>\n",
       "    <tr>\n",
       "      <th>104502</th>\n",
       "      <td>53987</td>\n",
       "      <td>-1613465697218833842</td>\n",
       "    </tr>\n",
       "  </tbody>\n",
       "</table>\n",
       "<p>104503 rows × 2 columns</p>\n",
       "</div>"
      ],
      "text/plain": [
       "           id               source\n",
       "0       94962  2919814402697966089\n",
       "1        3972  3263022753228392991\n",
       "2       94644 -3857390427602554682\n",
       "3       82518 -9036908390349249792\n",
       "4       53264  3353856219169766284\n",
       "...       ...                  ...\n",
       "104498  36769  3818746211375738614\n",
       "104499   9190  4975535765688979937\n",
       "104500  52731  3720366796439288909\n",
       "104501  72660 -7860042973720636310\n",
       "104502  53987 -1613465697218833842\n",
       "\n",
       "[104503 rows x 2 columns]"
      ]
     },
     "execution_count": 5,
     "metadata": {},
     "output_type": "execute_result"
    }
   ],
   "source": [
    "item_sources"
   ]
  },
  {
   "cell_type": "code",
   "execution_count": 6,
   "id": "f788e369",
   "metadata": {
    "ExecuteTime": {
     "end_time": "2023-06-07T21:31:47.943529Z",
     "start_time": "2023-06-07T21:31:47.920699Z"
    },
    "execution": {
     "iopub.execute_input": "2024-03-21T10:24:27.409874Z",
     "iopub.status.busy": "2024-03-21T10:24:27.409518Z",
     "iopub.status.idle": "2024-03-21T10:24:27.428869Z",
     "shell.execute_reply": "2024-03-21T10:24:27.428411Z",
     "shell.execute_reply.started": "2024-03-21T10:24:27.409852Z"
    }
   },
   "outputs": [
    {
     "data": {
      "text/html": [
       "<div>\n",
       "<style scoped>\n",
       "    .dataframe tbody tr th:only-of-type {\n",
       "        vertical-align: middle;\n",
       "    }\n",
       "\n",
       "    .dataframe tbody tr th {\n",
       "        vertical-align: top;\n",
       "    }\n",
       "\n",
       "    .dataframe thead th {\n",
       "        text-align: right;\n",
       "    }\n",
       "</style>\n",
       "<table border=\"1\" class=\"dataframe\">\n",
       "  <thead>\n",
       "    <tr style=\"text-align: right;\">\n",
       "      <th></th>\n",
       "      <th>user_id</th>\n",
       "      <th>item_ids</th>\n",
       "    </tr>\n",
       "  </thead>\n",
       "  <tbody>\n",
       "    <tr>\n",
       "      <th>0</th>\n",
       "      <td>993675863667353526</td>\n",
       "      <td>[15267, 61075, 81203, 17066, 25471, 88427, 638...</td>\n",
       "    </tr>\n",
       "    <tr>\n",
       "      <th>1</th>\n",
       "      <td>4250619547882954185</td>\n",
       "      <td>[4555, 94644, 84972, 17774, 94962, 78217, 2485...</td>\n",
       "    </tr>\n",
       "    <tr>\n",
       "      <th>2</th>\n",
       "      <td>3847785305345691076</td>\n",
       "      <td>[1898, 26703, 16525, 86939, 55017, 31069, 4035...</td>\n",
       "    </tr>\n",
       "    <tr>\n",
       "      <th>3</th>\n",
       "      <td>1785181112918558233</td>\n",
       "      <td>[75601, 102458, 28716, 100694, 5757, 47104, 60...</td>\n",
       "    </tr>\n",
       "    <tr>\n",
       "      <th>4</th>\n",
       "      <td>5078748097863903181</td>\n",
       "      <td>[72260, 40825, 2615, 42549, 379, 100818, 56827...</td>\n",
       "    </tr>\n",
       "    <tr>\n",
       "      <th>...</th>\n",
       "      <td>...</td>\n",
       "      <td>...</td>\n",
       "    </tr>\n",
       "    <tr>\n",
       "      <th>75905</th>\n",
       "      <td>4954138831959898373</td>\n",
       "      <td>[11881, 55520, 63054, 48015, 66952, 103830, 21...</td>\n",
       "    </tr>\n",
       "    <tr>\n",
       "      <th>75906</th>\n",
       "      <td>4967793435819938014</td>\n",
       "      <td>[74697, 11830, 63858, 87245, 41956, 62089, 686...</td>\n",
       "    </tr>\n",
       "    <tr>\n",
       "      <th>75907</th>\n",
       "      <td>7137764184903122777</td>\n",
       "      <td>[10353, 1775, 103680, 29704, 9782, 13295, 9975...</td>\n",
       "    </tr>\n",
       "    <tr>\n",
       "      <th>75908</th>\n",
       "      <td>2624987805086334956</td>\n",
       "      <td>[24324, 18854, 73319, 66641, 64078, 97387, 426...</td>\n",
       "    </tr>\n",
       "    <tr>\n",
       "      <th>75909</th>\n",
       "      <td>4022390127079841428</td>\n",
       "      <td>[64748, 64490, 99490, 80080, 8419, 84702, 7582...</td>\n",
       "    </tr>\n",
       "  </tbody>\n",
       "</table>\n",
       "<p>75910 rows × 2 columns</p>\n",
       "</div>"
      ],
      "text/plain": [
       "                   user_id                                           item_ids\n",
       "0       993675863667353526  [15267, 61075, 81203, 17066, 25471, 88427, 638...\n",
       "1      4250619547882954185  [4555, 94644, 84972, 17774, 94962, 78217, 2485...\n",
       "2      3847785305345691076  [1898, 26703, 16525, 86939, 55017, 31069, 4035...\n",
       "3      1785181112918558233  [75601, 102458, 28716, 100694, 5757, 47104, 60...\n",
       "4      5078748097863903181  [72260, 40825, 2615, 42549, 379, 100818, 56827...\n",
       "...                    ...                                                ...\n",
       "75905  4954138831959898373  [11881, 55520, 63054, 48015, 66952, 103830, 21...\n",
       "75906  4967793435819938014  [74697, 11830, 63858, 87245, 41956, 62089, 686...\n",
       "75907  7137764184903122777  [10353, 1775, 103680, 29704, 9782, 13295, 9975...\n",
       "75908  2624987805086334956  [24324, 18854, 73319, 66641, 64078, 97387, 426...\n",
       "75909  4022390127079841428  [64748, 64490, 99490, 80080, 8419, 84702, 7582...\n",
       "\n",
       "[75910 rows x 2 columns]"
      ]
     },
     "execution_count": 6,
     "metadata": {},
     "output_type": "execute_result"
    }
   ],
   "source": [
    "dataset"
   ]
  },
  {
   "cell_type": "code",
   "execution_count": null,
   "id": "c109ebcd",
   "metadata": {},
   "outputs": [],
   "source": [
    "%pip install ipywidgets"
   ]
  },
  {
   "cell_type": "code",
   "execution_count": 7,
   "id": "e8820e36",
   "metadata": {
    "ExecuteTime": {
     "end_time": "2023-06-07T21:31:55.339206Z",
     "start_time": "2023-06-07T21:31:51.973369Z"
    },
    "execution": {
     "iopub.execute_input": "2024-03-21T10:24:41.880387Z",
     "iopub.status.busy": "2024-03-21T10:24:41.879749Z",
     "iopub.status.idle": "2024-03-21T10:24:45.217848Z",
     "shell.execute_reply": "2024-03-21T10:24:45.217314Z",
     "shell.execute_reply.started": "2024-03-21T10:24:41.880355Z"
    }
   },
   "outputs": [
    {
     "data": {
      "application/vnd.jupyter.widget-view+json": {
       "model_id": "ca158019300e445f9d2fa4f9bd98e5df",
       "version_major": 2,
       "version_minor": 0
      },
      "text/plain": [
       "  0%|          | 0/75910 [00:00<?, ?it/s]"
      ]
     },
     "metadata": {},
     "output_type": "display_data"
    }
   ],
   "source": [
    "total_interactions_count = dataset.item_ids.map(len).sum()\n",
    "user_coo = np.zeros(total_interactions_count, dtype=np.int64)\n",
    "item_coo = np.zeros(total_interactions_count, dtype=np.int64)\n",
    "pos = 0\n",
    "\n",
    "for user_id, item_ids in enumerate(tqdm(dataset.item_ids)):\n",
    "    user_coo[pos : pos + len(item_ids)] = user_id\n",
    "    item_coo[pos : pos + len(item_ids)] = item_ids\n",
    "    pos += len(item_ids)\n",
    "\n",
    "shape = (max(user_coo) + 1, max(item_coo) + 1)\n",
    "user_item_matrix = sp.coo_matrix(\n",
    "    (np.ones(len(user_coo)), (user_coo, item_coo)), shape=shape\n",
    ")\n",
    "user_item_matrix = user_item_matrix.tocsr()\n",
    "sp.save_npz(\"data_train.npz\", user_item_matrix)\n",
    "# Cleanup memory. Later you need just data_train.npz\n",
    "del user_coo\n",
    "del item_coo\n",
    "del dataset"
   ]
  },
  {
   "cell_type": "code",
   "execution_count": 3,
   "id": "b694e04f",
   "metadata": {
    "ExecuteTime": {
     "end_time": "2023-06-07T21:32:04.714869Z",
     "start_time": "2023-06-07T21:32:04.568491Z"
    },
    "execution": {
     "iopub.execute_input": "2024-03-21T10:27:58.137388Z",
     "iopub.status.busy": "2024-03-21T10:27:58.136543Z",
     "iopub.status.idle": "2024-03-21T10:27:58.300332Z",
     "shell.execute_reply": "2024-03-21T10:27:58.299898Z",
     "shell.execute_reply.started": "2024-03-21T10:27:58.137337Z"
    }
   },
   "outputs": [],
   "source": [
    "# you could start here if you already done precomputing\n",
    "user_item_matrix = sp.load_npz(\"data_train.npz\")"
   ]
  },
  {
   "cell_type": "code",
   "execution_count": 4,
   "id": "2eacfa5e",
   "metadata": {
    "ExecuteTime": {
     "end_time": "2023-06-07T21:32:17.252065Z",
     "start_time": "2023-06-07T21:32:17.239886Z"
    },
    "execution": {
     "iopub.execute_input": "2024-03-21T10:27:59.247031Z",
     "iopub.status.busy": "2024-03-21T10:27:59.246646Z",
     "iopub.status.idle": "2024-03-21T10:27:59.257786Z",
     "shell.execute_reply": "2024-03-21T10:27:59.257057Z",
     "shell.execute_reply.started": "2024-03-21T10:27:59.246994Z"
    }
   },
   "outputs": [
    {
     "data": {
      "text/plain": [
       "<75910x104503 sparse matrix of type '<class 'numpy.float64'>'\n",
       "\twith 5792423 stored elements in Compressed Sparse Row format>"
      ]
     },
     "execution_count": 4,
     "metadata": {},
     "output_type": "execute_result"
    }
   ],
   "source": [
    "user_item_matrix"
   ]
  },
  {
   "cell_type": "code",
   "execution_count": 5,
   "id": "b7d5e4d1-cfcd-4abd-8d7e-b920bd3295b1",
   "metadata": {
    "execution": {
     "iopub.execute_input": "2024-03-21T10:38:33.146072Z",
     "iopub.status.busy": "2024-03-21T10:38:33.145637Z",
     "iopub.status.idle": "2024-03-21T10:38:33.153440Z",
     "shell.execute_reply": "2024-03-21T10:38:33.151232Z",
     "shell.execute_reply.started": "2024-03-21T10:38:33.146050Z"
    }
   },
   "outputs": [],
   "source": [
    "def sparce_matrix_report(matrix):\n",
    "    print(\"Size of raw data:\", matrix.data.nbytes / 10**6, \"Mb\")\n",
    "    print(\"Feedback matrix size:\", matrix.shape)"
   ]
  },
  {
   "cell_type": "code",
   "execution_count": 6,
   "id": "d3992814-d1da-48c9-b42e-0c8b596de5ad",
   "metadata": {
    "execution": {
     "iopub.execute_input": "2024-03-21T10:38:33.823522Z",
     "iopub.status.busy": "2024-03-21T10:38:33.822742Z",
     "iopub.status.idle": "2024-03-21T10:38:33.828502Z",
     "shell.execute_reply": "2024-03-21T10:38:33.827613Z",
     "shell.execute_reply.started": "2024-03-21T10:38:33.823495Z"
    }
   },
   "outputs": [
    {
     "name": "stdout",
     "output_type": "stream",
     "text": [
      "Size of raw data: 46.339384 Mb\n",
      "Feedback matrix size: (75910, 104503)\n"
     ]
    }
   ],
   "source": [
    "sparce_matrix_report(user_item_matrix)"
   ]
  },
  {
   "cell_type": "code",
   "execution_count": 7,
   "id": "4cd37f54",
   "metadata": {
    "ExecuteTime": {
     "end_time": "2023-06-07T21:32:24.023986Z",
     "start_time": "2023-06-07T21:32:23.942940Z"
    },
    "execution": {
     "iopub.execute_input": "2024-03-21T10:38:46.019297Z",
     "iopub.status.busy": "2024-03-21T10:38:46.018979Z",
     "iopub.status.idle": "2024-03-21T10:38:46.119795Z",
     "shell.execute_reply": "2024-03-21T10:38:46.119352Z",
     "shell.execute_reply.started": "2024-03-21T10:38:46.019277Z"
    }
   },
   "outputs": [],
   "source": [
    "item_weights = np.array(user_item_matrix.tocsc().sum(0))[0]\n",
    "top_to_bottom_order = np.argsort(-item_weights)\n",
    "item_mapping = np.empty(top_to_bottom_order.shape, dtype=int)\n",
    "item_mapping[top_to_bottom_order] = np.arange(len(top_to_bottom_order))\n",
    "total_item_count = (item_weights > 0).sum()\n",
    "total_user_count = user_item_matrix.shape[0]\n",
    "\n",
    "\n",
    "def build_debug_dataset(user_item_matrix, item_pct: float, user_pct: float):\n",
    "    \"\"\"Get given percent of top rated items and given percent of random users\"\"\"\n",
    "    user_count = (int(total_user_count * user_pct),)\n",
    "    item_count = int(total_item_count * item_pct)\n",
    "    item_ids = top_to_bottom_order[:item_count]\n",
    "    user_ids = np.random.choice(\n",
    "        np.arange(user_item_matrix.shape[0]), size=user_count, replace=False\n",
    "    )\n",
    "    train = user_item_matrix[user_ids]\n",
    "    train = train[:, item_ids]\n",
    "    return train"
   ]
  },
  {
   "cell_type": "code",
   "execution_count": 8,
   "id": "820abbd7-d8f2-42df-aa6a-e3a6e360c94d",
   "metadata": {
    "ExecuteTime": {
     "end_time": "2023-06-07T21:32:24.803339Z",
     "start_time": "2023-06-07T21:32:24.782858Z"
    },
    "execution": {
     "iopub.execute_input": "2024-03-21T10:39:09.832524Z",
     "iopub.status.busy": "2024-03-21T10:39:09.831807Z",
     "iopub.status.idle": "2024-03-21T10:39:09.855133Z",
     "shell.execute_reply": "2024-03-21T10:39:09.854617Z",
     "shell.execute_reply.started": "2024-03-21T10:39:09.832486Z"
    }
   },
   "outputs": [
    {
     "name": "stdout",
     "output_type": "stream",
     "text": [
      "Size of raw data: 1.10536 Mb\n",
      "Feedback matrix size: (3795, 5019)\n"
     ]
    }
   ],
   "source": [
    "debug_dataset = build_debug_dataset(user_item_matrix, 0.05, 0.05)\n",
    "\n",
    "sparce_matrix_report(debug_dataset)"
   ]
  },
  {
   "cell_type": "code",
   "execution_count": 9,
   "id": "97e92034",
   "metadata": {},
   "outputs": [
    {
     "data": {
      "text/plain": [
       "scipy.sparse._csr.csr_matrix"
      ]
     },
     "execution_count": 9,
     "metadata": {},
     "output_type": "execute_result"
    }
   ],
   "source": [
    "type(debug_dataset[1])"
   ]
  },
  {
   "cell_type": "markdown",
   "id": "8f5d59e1",
   "metadata": {},
   "source": [
    "This is useful for debugging (just to save time).\n",
    "\n",
    "**Final answers should use full dataset!!!**"
   ]
  },
  {
   "cell_type": "markdown",
   "id": "536eb9ab",
   "metadata": {},
   "source": [
    "## Split dataset matrix (5 points)\n",
    "\n",
    "in the following way: for 20% of users (random) remove one like - this will be test data. The rest is train data. (10 points)"
   ]
  },
  {
   "cell_type": "code",
   "execution_count": 14,
   "id": "95714ebd",
   "metadata": {
    "ExecuteTime": {
     "end_time": "2023-11-06T04:49:46.392558Z",
     "start_time": "2023-11-06T04:49:46.385337Z"
    }
   },
   "outputs": [],
   "source": [
    "def split_data(ratings):\n",
    "    n_users, n_items = ratings.shape\n",
    "    test_user_indices = np.random.choice(n_users, int(n_users * 0.2), replace=False)\n",
    "    test_item_indices = []\n",
    "\n",
    "    for user_idx in test_user_indices:\n",
    "        item_indices = ratings[user_idx].nonzero()[1]\n",
    "        if len(item_indices) > 0:\n",
    "            test_item_indices.append((user_idx, np.random.choice(item_indices)))\n",
    "\n",
    "    test_matrix = ratings.copy()\n",
    "    for user_idx, item_idx in test_item_indices:\n",
    "        test_matrix[user_idx, item_idx] = 0\n",
    "\n",
    "    train_matrix = ratings\n",
    "\n",
    "    return train_matrix, test_matrix"
   ]
  },
  {
   "cell_type": "code",
   "execution_count": 43,
   "id": "e7bbfe9c",
   "metadata": {},
   "outputs": [],
   "source": [
    "train_ratings, test_ratings = split_data(user_item_matrix)"
   ]
  },
  {
   "cell_type": "markdown",
   "id": "e8ed4c71-6501-4d34-951b-faf6fd4ce897",
   "metadata": {},
   "source": [
    "## Implement ALS, IALS (10 points each)\n",
    "\n",
    "Note that due to size of data you need to implement algorithms with _sparce matrices_!"
   ]
  },
  {
   "cell_type": "code",
   "execution_count": 26,
   "id": "f58eec41",
   "metadata": {},
   "outputs": [],
   "source": [
    "lam = 1e-4\n",
    "k = 20\n",
    "max_iter = 30\n",
    "tol = 1e-5\n",
    "\n",
    "\n",
    "def calc_oposite_vectors(Y, A):\n",
    "    B = Y.T @ Y + lam * np.eye(k)\n",
    "    C = A @ Y\n",
    "    return (np.linalg.inv(B) @ C.T).T\n"
   ]
  },
  {
   "cell_type": "code",
   "execution_count": 31,
   "id": "c754eff7",
   "metadata": {
    "ExecuteTime": {
     "end_time": "2023-11-06T04:20:55.888362Z",
     "start_time": "2023-11-06T04:20:55.881115Z"
    }
   },
   "outputs": [],
   "source": [
    "def als(ratings, k: int, lam: float):\n",
    "    \"\"\"Alternating Least Squares algorithm\n",
    "\n",
    "    Args:\n",
    "        ratings: sparce matrix of ratings\n",
    "        k: size of embeddings\n",
    "        lam: regularization term\n",
    "\n",
    "    Returns:\n",
    "        two matrices: of user embeddings and of item embeddings\n",
    "    \"\"\"\n",
    "\n",
    "    user_embeddings, item_embeddings = (\n",
    "        np.random.randn(ratings.shape[0], k),\n",
    "        np.random.randn(ratings.shape[1], k),\n",
    "    )\n",
    "\n",
    "    for i in range(max_iter):\n",
    "        user_embeddings = calc_oposite_vectors(item_embeddings, ratings)\n",
    "        item_embeddings = calc_oposite_vectors(user_embeddings, ratings.T)\n",
    "\n",
    "        # error = np.linalg.norm(ratings - user_embeddings @ item_embeddings.T)\n",
    "        # if error < tol:\n",
    "        #     break\n",
    "\n",
    "    return user_embeddings, item_embeddings"
   ]
  },
  {
   "cell_type": "markdown",
   "id": "ce1d293f",
   "metadata": {},
   "source": [
    "## Compute MRR@100 metric for test users (10 points)\n",
    "\n",
    "For ALS and IALS algorithms.\n",
    "\n",
    "**Don't forget to use full dataset!**"
   ]
  },
  {
   "cell_type": "code",
   "execution_count": 50,
   "id": "ef8cdb0d",
   "metadata": {},
   "outputs": [],
   "source": [
    "def mrr100(user_embeddings, item_embeddings, test_ratings):\n",
    "    n_users = test_ratings.shape[0]\n",
    "    reciprocal_ranks = []\n",
    "\n",
    "    for u in range(n_users):\n",
    "        user_embedding = user_embeddings[u]\n",
    "        user_ratings = test_ratings[u].toarray().flatten()\n",
    "        non_zero_mask = user_ratings > 0\n",
    "\n",
    "        similarities = user_embedding @ item_embeddings.T\n",
    "\n",
    "        sorted_indices = np.argsort(-similarities[non_zero_mask])\n",
    "\n",
    "        try:\n",
    "            rank = (\n",
    "                np.where(user_ratings[non_zero_mask][sorted_indices[:100]] > 0)[0][0]\n",
    "                + 1\n",
    "            )\n",
    "        except IndexError:\n",
    "            rank = 101\n",
    "\n",
    "        reciprocal_rank = 1.0 / min(rank, 100)\n",
    "\n",
    "        reciprocal_ranks.append(reciprocal_rank)\n",
    "    mrr_value = np.mean(reciprocal_ranks)\n",
    "\n",
    "    return mrr_value"
   ]
  },
  {
   "cell_type": "code",
   "execution_count": 44,
   "id": "badb62d4",
   "metadata": {},
   "outputs": [],
   "source": [
    "user_als_embeddings, item_als_embeddings = als(train_ratings, k=20, lam=1e-4)"
   ]
  },
  {
   "cell_type": "code",
   "execution_count": null,
   "id": "aa61d1cc",
   "metadata": {},
   "outputs": [],
   "source": [
    "mrr_als = mrr100(user_als_embeddings, item_als_embeddings, test_ratings)\n",
    "print(mrr_als)"
   ]
  }
 ],
 "metadata": {
  "finalized": {
   "timestamp": 1686173501421,
   "trusted": false
  },
  "kernelspec": {
   "display_name": "Python 3",
   "language": "python",
   "name": "python3"
  },
  "language_info": {
   "codemirror_mode": {
    "name": "ipython",
    "version": 3
   },
   "file_extension": ".py",
   "mimetype": "text/x-python",
   "name": "python",
   "nbconvert_exporter": "python",
   "pygments_lexer": "ipython3",
   "version": "3.12.2"
  },
  "toc": {
   "base_numbering": 1,
   "nav_menu": {},
   "number_sections": true,
   "sideBar": true,
   "skip_h1_title": false,
   "title_cell": "Table of Contents",
   "title_sidebar": "Contents",
   "toc_cell": false,
   "toc_position": {
    "height": "calc(100% - 180px)",
    "left": "10px",
    "top": "150px",
    "width": "302.398px"
   },
   "toc_section_display": true,
   "toc_window_display": true
  }
 },
 "nbformat": 4,
 "nbformat_minor": 5
}
