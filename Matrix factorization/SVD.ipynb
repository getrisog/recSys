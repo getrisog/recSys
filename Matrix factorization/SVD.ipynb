{
  "cells": [
    {
      "cell_type": "markdown",
      "metadata": {
        "id": "aNefBwu1VA7M"
      },
      "source": [
        "# Рекомендательная система на базе датасета **movielens**"
      ]
    },
    {
      "cell_type": "markdown",
      "metadata": {
        "id": "59_iZqNkVA7S"
      },
      "source": [
        "Один из наиболее известных датасетов в мире рекомендательных систем - Movielens 25M, содержащий рейтинги к фильмам, оставленные различными пользователями на одноименном сайте https://movielens.org/.\n",
        "\n",
        "Мы будем использовать мини-версию датасета, содержащую 100 тысяч записей рейтингов фильмов."
      ]
    },
    {
      "cell_type": "markdown",
      "metadata": {
        "id": "7MTzoxulVA7V"
      },
      "source": [
        "## Загрузка данных"
      ]
    },
    {
      "cell_type": "markdown",
      "metadata": {
        "id": "I5fvYqJDVA7X"
      },
      "source": [
        "Для создания алгоритмов рекомендательной системы, будем использовать библиотеку **surprise**."
      ]
    },
    {
      "cell_type": "markdown",
      "metadata": {
        "id": "rt05w2p2VA7Z"
      },
      "source": [
        "Установим её, если она ещё не установлена на компьютер."
      ]
    },
    {
      "cell_type": "code",
      "execution_count": 1,
      "metadata": {
        "ExecuteTime": {
          "end_time": "2021-05-19T21:44:04.713021Z",
          "start_time": "2021-05-19T21:43:39.695307Z"
        },
        "colab": {
          "base_uri": "https://localhost:8080/"
        },
        "id": "jZ0JToZrVA7c",
        "outputId": "98998800-e9b7-49d0-f66b-f0b5277be254"
      },
      "outputs": [
        {
          "name": "stdout",
          "output_type": "stream",
          "text": [
            "Collecting scikit-surprise\n",
            "  Downloading scikit-surprise-1.1.3.tar.gz (771 kB)\n",
            "\u001b[2K     \u001b[90m━━━━━━━━━━━━━━━━━━━━━━━━━━━━━━━━━━━━━━━━\u001b[0m \u001b[32m772.0/772.0 kB\u001b[0m \u001b[31m3.9 MB/s\u001b[0m eta \u001b[36m0:00:00\u001b[0m\n",
            "\u001b[?25h  Preparing metadata (setup.py) ... \u001b[?25l\u001b[?25hdone\n",
            "Requirement already satisfied: joblib>=1.0.0 in /usr/local/lib/python3.10/dist-packages (from scikit-surprise) (1.4.2)\n",
            "Requirement already satisfied: numpy>=1.17.3 in /usr/local/lib/python3.10/dist-packages (from scikit-surprise) (1.25.2)\n",
            "Requirement already satisfied: scipy>=1.3.2 in /usr/local/lib/python3.10/dist-packages (from scikit-surprise) (1.11.4)\n",
            "Building wheels for collected packages: scikit-surprise\n",
            "  Building wheel for scikit-surprise (setup.py) ... \u001b[?25l\u001b[?25hdone\n",
            "  Created wheel for scikit-surprise: filename=scikit_surprise-1.1.3-cp310-cp310-linux_x86_64.whl size=3163004 sha256=7b8485d173003c2409bd461cde85331d6189ad58058c3a8af5eded2a4f5a684f\n",
            "  Stored in directory: /root/.cache/pip/wheels/a5/ca/a8/4e28def53797fdc4363ca4af740db15a9c2f1595ebc51fb445\n",
            "Successfully built scikit-surprise\n",
            "Installing collected packages: scikit-surprise\n",
            "Successfully installed scikit-surprise-1.1.3\n"
          ]
        }
      ],
      "source": [
        "!pip install scikit-surprise"
      ]
    },
    {
      "cell_type": "code",
      "execution_count": 2,
      "metadata": {
        "ExecuteTime": {
          "end_time": "2021-05-19T21:44:06.029598Z",
          "start_time": "2021-05-19T21:44:04.717362Z"
        },
        "id": "jpq1v5WTVA7n"
      },
      "outputs": [],
      "source": [
        "from surprise import Dataset"
      ]
    },
    {
      "cell_type": "markdown",
      "metadata": {
        "id": "78r_pDDhVA7v"
      },
      "source": [
        "Загружаем датасет из **surprise**"
      ]
    },
    {
      "cell_type": "code",
      "execution_count": 3,
      "metadata": {
        "ExecuteTime": {
          "end_time": "2021-05-19T21:44:54.051477Z",
          "start_time": "2021-05-19T21:44:52.353186Z"
        },
        "colab": {
          "base_uri": "https://localhost:8080/"
        },
        "id": "1eJDcXYDVA7x",
        "outputId": "b0c36bb0-1359-4e99-a2cb-63c2bb19f2b8"
      },
      "outputs": [
        {
          "name": "stdout",
          "output_type": "stream",
          "text": [
            "Trying to download dataset from https://files.grouplens.org/datasets/movielens/ml-100k.zip...\n",
            "Done! Dataset ml-100k has been saved to /root/.surprise_data/ml-100k\n"
          ]
        }
      ],
      "source": [
        "data = Dataset.load_builtin(\"ml-100k\", prompt=False)"
      ]
    },
    {
      "cell_type": "markdown",
      "metadata": {
        "ExecuteTime": {
          "end_time": "2021-05-19T22:12:49.230638Z",
          "start_time": "2021-05-19T22:12:49.225985Z"
        },
        "id": "zbPfrniMOLCQ"
      },
      "source": [
        "**Замечание для любителей настоящих данных**\n",
        "\n",
        "Вы можете попробовать загрузить полную верисю датасета (`'ml-1m'`) и попробовать сделать задание на нём.\n",
        "\n",
        "Но вычисления будут занимать большее количество времени (и требовать некоторого железа).\n",
        "\n",
        "За использование расширенного датасета не будет бонусов в оценке (да и результатах по большей части тоже) - только ваш энтузиазм."
      ]
    },
    {
      "cell_type": "markdown",
      "metadata": {
        "id": "M7FSaRcPVA74"
      },
      "source": [
        "## Визуализация данных"
      ]
    },
    {
      "cell_type": "markdown",
      "metadata": {
        "id": "_xcR-N4kVA76"
      },
      "source": [
        "Для удобной работы с данными загрузим библиотеку **pandas**"
      ]
    },
    {
      "cell_type": "code",
      "execution_count": 4,
      "metadata": {
        "ExecuteTime": {
          "end_time": "2021-05-19T21:45:10.083388Z",
          "start_time": "2021-05-19T21:45:09.808012Z"
        },
        "id": "IbXPCvMzVA78"
      },
      "outputs": [],
      "source": [
        "import pandas as pd"
      ]
    },
    {
      "cell_type": "markdown",
      "metadata": {
        "id": "cBXvcnFRVA8J"
      },
      "source": [
        "Преобразуем данные к формату **pandas DataFrame**, для удобной работы с ними:"
      ]
    },
    {
      "cell_type": "code",
      "execution_count": 5,
      "metadata": {
        "ExecuteTime": {
          "end_time": "2021-05-19T21:45:10.722512Z",
          "start_time": "2021-05-19T21:45:10.679709Z"
        },
        "id": "4c78lO-xVA8L"
      },
      "outputs": [],
      "source": [
        "df = pd.DataFrame(\n",
        "    data.raw_ratings, columns=[\"userId\", \"movieId\", \"rating\", \"timestamp\"]\n",
        ")"
      ]
    },
    {
      "cell_type": "code",
      "execution_count": 6,
      "metadata": {
        "ExecuteTime": {
          "end_time": "2021-05-19T21:45:11.315222Z",
          "start_time": "2021-05-19T21:45:11.296874Z"
        },
        "colab": {
          "base_uri": "https://localhost:8080/",
          "height": 363
        },
        "id": "z8iZfdnZVA8S",
        "outputId": "55d7815f-f3b7-4cad-fb0e-8a851f385246"
      },
      "outputs": [
        {
          "data": {
            "application/vnd.google.colaboratory.intrinsic+json": {
              "summary": "{\n  \"name\": \"df\",\n  \"rows\": 100000,\n  \"fields\": [\n    {\n      \"column\": \"userId\",\n      \"properties\": {\n        \"dtype\": \"category\",\n        \"num_unique_values\": 943,\n        \"samples\": [\n          \"262\",\n          \"136\",\n          \"821\"\n        ],\n        \"semantic_type\": \"\",\n        \"description\": \"\"\n      }\n    },\n    {\n      \"column\": \"movieId\",\n      \"properties\": {\n        \"dtype\": \"category\",\n        \"num_unique_values\": 1682,\n        \"samples\": [\n          \"1557\",\n          \"808\",\n          \"1618\"\n        ],\n        \"semantic_type\": \"\",\n        \"description\": \"\"\n      }\n    },\n    {\n      \"column\": \"rating\",\n      \"properties\": {\n        \"dtype\": \"number\",\n        \"std\": 1.125673599144316,\n        \"min\": 1.0,\n        \"max\": 5.0,\n        \"num_unique_values\": 5,\n        \"samples\": [\n          1.0,\n          5.0,\n          2.0\n        ],\n        \"semantic_type\": \"\",\n        \"description\": \"\"\n      }\n    },\n    {\n      \"column\": \"timestamp\",\n      \"properties\": {\n        \"dtype\": \"category\",\n        \"num_unique_values\": 49282,\n        \"samples\": [\n          \"889728713\",\n          \"888443306\",\n          \"880605158\"\n        ],\n        \"semantic_type\": \"\",\n        \"description\": \"\"\n      }\n    }\n  ]\n}",
              "type": "dataframe",
              "variable_name": "df"
            },
            "text/html": [
              "\n",
              "  <div id=\"df-4dbc4079-244a-48ef-8f3f-c77e5b7c2877\" class=\"colab-df-container\">\n",
              "    <div>\n",
              "<style scoped>\n",
              "    .dataframe tbody tr th:only-of-type {\n",
              "        vertical-align: middle;\n",
              "    }\n",
              "\n",
              "    .dataframe tbody tr th {\n",
              "        vertical-align: top;\n",
              "    }\n",
              "\n",
              "    .dataframe thead th {\n",
              "        text-align: right;\n",
              "    }\n",
              "</style>\n",
              "<table border=\"1\" class=\"dataframe\">\n",
              "  <thead>\n",
              "    <tr style=\"text-align: right;\">\n",
              "      <th></th>\n",
              "      <th>userId</th>\n",
              "      <th>movieId</th>\n",
              "      <th>rating</th>\n",
              "      <th>timestamp</th>\n",
              "    </tr>\n",
              "  </thead>\n",
              "  <tbody>\n",
              "    <tr>\n",
              "      <th>0</th>\n",
              "      <td>196</td>\n",
              "      <td>242</td>\n",
              "      <td>3.0</td>\n",
              "      <td>881250949</td>\n",
              "    </tr>\n",
              "    <tr>\n",
              "      <th>1</th>\n",
              "      <td>186</td>\n",
              "      <td>302</td>\n",
              "      <td>3.0</td>\n",
              "      <td>891717742</td>\n",
              "    </tr>\n",
              "    <tr>\n",
              "      <th>2</th>\n",
              "      <td>22</td>\n",
              "      <td>377</td>\n",
              "      <td>1.0</td>\n",
              "      <td>878887116</td>\n",
              "    </tr>\n",
              "    <tr>\n",
              "      <th>3</th>\n",
              "      <td>244</td>\n",
              "      <td>51</td>\n",
              "      <td>2.0</td>\n",
              "      <td>880606923</td>\n",
              "    </tr>\n",
              "    <tr>\n",
              "      <th>4</th>\n",
              "      <td>166</td>\n",
              "      <td>346</td>\n",
              "      <td>1.0</td>\n",
              "      <td>886397596</td>\n",
              "    </tr>\n",
              "    <tr>\n",
              "      <th>5</th>\n",
              "      <td>298</td>\n",
              "      <td>474</td>\n",
              "      <td>4.0</td>\n",
              "      <td>884182806</td>\n",
              "    </tr>\n",
              "    <tr>\n",
              "      <th>6</th>\n",
              "      <td>115</td>\n",
              "      <td>265</td>\n",
              "      <td>2.0</td>\n",
              "      <td>881171488</td>\n",
              "    </tr>\n",
              "    <tr>\n",
              "      <th>7</th>\n",
              "      <td>253</td>\n",
              "      <td>465</td>\n",
              "      <td>5.0</td>\n",
              "      <td>891628467</td>\n",
              "    </tr>\n",
              "    <tr>\n",
              "      <th>8</th>\n",
              "      <td>305</td>\n",
              "      <td>451</td>\n",
              "      <td>3.0</td>\n",
              "      <td>886324817</td>\n",
              "    </tr>\n",
              "    <tr>\n",
              "      <th>9</th>\n",
              "      <td>6</td>\n",
              "      <td>86</td>\n",
              "      <td>3.0</td>\n",
              "      <td>883603013</td>\n",
              "    </tr>\n",
              "  </tbody>\n",
              "</table>\n",
              "</div>\n",
              "    <div class=\"colab-df-buttons\">\n",
              "\n",
              "  <div class=\"colab-df-container\">\n",
              "    <button class=\"colab-df-convert\" onclick=\"convertToInteractive('df-4dbc4079-244a-48ef-8f3f-c77e5b7c2877')\"\n",
              "            title=\"Convert this dataframe to an interactive table.\"\n",
              "            style=\"display:none;\">\n",
              "\n",
              "  <svg xmlns=\"http://www.w3.org/2000/svg\" height=\"24px\" viewBox=\"0 -960 960 960\">\n",
              "    <path d=\"M120-120v-720h720v720H120Zm60-500h600v-160H180v160Zm220 220h160v-160H400v160Zm0 220h160v-160H400v160ZM180-400h160v-160H180v160Zm440 0h160v-160H620v160ZM180-180h160v-160H180v160Zm440 0h160v-160H620v160Z\"/>\n",
              "  </svg>\n",
              "    </button>\n",
              "\n",
              "  <style>\n",
              "    .colab-df-container {\n",
              "      display:flex;\n",
              "      gap: 12px;\n",
              "    }\n",
              "\n",
              "    .colab-df-convert {\n",
              "      background-color: #E8F0FE;\n",
              "      border: none;\n",
              "      border-radius: 50%;\n",
              "      cursor: pointer;\n",
              "      display: none;\n",
              "      fill: #1967D2;\n",
              "      height: 32px;\n",
              "      padding: 0 0 0 0;\n",
              "      width: 32px;\n",
              "    }\n",
              "\n",
              "    .colab-df-convert:hover {\n",
              "      background-color: #E2EBFA;\n",
              "      box-shadow: 0px 1px 2px rgba(60, 64, 67, 0.3), 0px 1px 3px 1px rgba(60, 64, 67, 0.15);\n",
              "      fill: #174EA6;\n",
              "    }\n",
              "\n",
              "    .colab-df-buttons div {\n",
              "      margin-bottom: 4px;\n",
              "    }\n",
              "\n",
              "    [theme=dark] .colab-df-convert {\n",
              "      background-color: #3B4455;\n",
              "      fill: #D2E3FC;\n",
              "    }\n",
              "\n",
              "    [theme=dark] .colab-df-convert:hover {\n",
              "      background-color: #434B5C;\n",
              "      box-shadow: 0px 1px 3px 1px rgba(0, 0, 0, 0.15);\n",
              "      filter: drop-shadow(0px 1px 2px rgba(0, 0, 0, 0.3));\n",
              "      fill: #FFFFFF;\n",
              "    }\n",
              "  </style>\n",
              "\n",
              "    <script>\n",
              "      const buttonEl =\n",
              "        document.querySelector('#df-4dbc4079-244a-48ef-8f3f-c77e5b7c2877 button.colab-df-convert');\n",
              "      buttonEl.style.display =\n",
              "        google.colab.kernel.accessAllowed ? 'block' : 'none';\n",
              "\n",
              "      async function convertToInteractive(key) {\n",
              "        const element = document.querySelector('#df-4dbc4079-244a-48ef-8f3f-c77e5b7c2877');\n",
              "        const dataTable =\n",
              "          await google.colab.kernel.invokeFunction('convertToInteractive',\n",
              "                                                    [key], {});\n",
              "        if (!dataTable) return;\n",
              "\n",
              "        const docLinkHtml = 'Like what you see? Visit the ' +\n",
              "          '<a target=\"_blank\" href=https://colab.research.google.com/notebooks/data_table.ipynb>data table notebook</a>'\n",
              "          + ' to learn more about interactive tables.';\n",
              "        element.innerHTML = '';\n",
              "        dataTable['output_type'] = 'display_data';\n",
              "        await google.colab.output.renderOutput(dataTable, element);\n",
              "        const docLink = document.createElement('div');\n",
              "        docLink.innerHTML = docLinkHtml;\n",
              "        element.appendChild(docLink);\n",
              "      }\n",
              "    </script>\n",
              "  </div>\n",
              "\n",
              "\n",
              "<div id=\"df-d7e2a15e-6943-4423-9db4-918a1911dc7c\">\n",
              "  <button class=\"colab-df-quickchart\" onclick=\"quickchart('df-d7e2a15e-6943-4423-9db4-918a1911dc7c')\"\n",
              "            title=\"Suggest charts\"\n",
              "            style=\"display:none;\">\n",
              "\n",
              "<svg xmlns=\"http://www.w3.org/2000/svg\" height=\"24px\"viewBox=\"0 0 24 24\"\n",
              "     width=\"24px\">\n",
              "    <g>\n",
              "        <path d=\"M19 3H5c-1.1 0-2 .9-2 2v14c0 1.1.9 2 2 2h14c1.1 0 2-.9 2-2V5c0-1.1-.9-2-2-2zM9 17H7v-7h2v7zm4 0h-2V7h2v10zm4 0h-2v-4h2v4z\"/>\n",
              "    </g>\n",
              "</svg>\n",
              "  </button>\n",
              "\n",
              "<style>\n",
              "  .colab-df-quickchart {\n",
              "      --bg-color: #E8F0FE;\n",
              "      --fill-color: #1967D2;\n",
              "      --hover-bg-color: #E2EBFA;\n",
              "      --hover-fill-color: #174EA6;\n",
              "      --disabled-fill-color: #AAA;\n",
              "      --disabled-bg-color: #DDD;\n",
              "  }\n",
              "\n",
              "  [theme=dark] .colab-df-quickchart {\n",
              "      --bg-color: #3B4455;\n",
              "      --fill-color: #D2E3FC;\n",
              "      --hover-bg-color: #434B5C;\n",
              "      --hover-fill-color: #FFFFFF;\n",
              "      --disabled-bg-color: #3B4455;\n",
              "      --disabled-fill-color: #666;\n",
              "  }\n",
              "\n",
              "  .colab-df-quickchart {\n",
              "    background-color: var(--bg-color);\n",
              "    border: none;\n",
              "    border-radius: 50%;\n",
              "    cursor: pointer;\n",
              "    display: none;\n",
              "    fill: var(--fill-color);\n",
              "    height: 32px;\n",
              "    padding: 0;\n",
              "    width: 32px;\n",
              "  }\n",
              "\n",
              "  .colab-df-quickchart:hover {\n",
              "    background-color: var(--hover-bg-color);\n",
              "    box-shadow: 0 1px 2px rgba(60, 64, 67, 0.3), 0 1px 3px 1px rgba(60, 64, 67, 0.15);\n",
              "    fill: var(--button-hover-fill-color);\n",
              "  }\n",
              "\n",
              "  .colab-df-quickchart-complete:disabled,\n",
              "  .colab-df-quickchart-complete:disabled:hover {\n",
              "    background-color: var(--disabled-bg-color);\n",
              "    fill: var(--disabled-fill-color);\n",
              "    box-shadow: none;\n",
              "  }\n",
              "\n",
              "  .colab-df-spinner {\n",
              "    border: 2px solid var(--fill-color);\n",
              "    border-color: transparent;\n",
              "    border-bottom-color: var(--fill-color);\n",
              "    animation:\n",
              "      spin 1s steps(1) infinite;\n",
              "  }\n",
              "\n",
              "  @keyframes spin {\n",
              "    0% {\n",
              "      border-color: transparent;\n",
              "      border-bottom-color: var(--fill-color);\n",
              "      border-left-color: var(--fill-color);\n",
              "    }\n",
              "    20% {\n",
              "      border-color: transparent;\n",
              "      border-left-color: var(--fill-color);\n",
              "      border-top-color: var(--fill-color);\n",
              "    }\n",
              "    30% {\n",
              "      border-color: transparent;\n",
              "      border-left-color: var(--fill-color);\n",
              "      border-top-color: var(--fill-color);\n",
              "      border-right-color: var(--fill-color);\n",
              "    }\n",
              "    40% {\n",
              "      border-color: transparent;\n",
              "      border-right-color: var(--fill-color);\n",
              "      border-top-color: var(--fill-color);\n",
              "    }\n",
              "    60% {\n",
              "      border-color: transparent;\n",
              "      border-right-color: var(--fill-color);\n",
              "    }\n",
              "    80% {\n",
              "      border-color: transparent;\n",
              "      border-right-color: var(--fill-color);\n",
              "      border-bottom-color: var(--fill-color);\n",
              "    }\n",
              "    90% {\n",
              "      border-color: transparent;\n",
              "      border-bottom-color: var(--fill-color);\n",
              "    }\n",
              "  }\n",
              "</style>\n",
              "\n",
              "  <script>\n",
              "    async function quickchart(key) {\n",
              "      const quickchartButtonEl =\n",
              "        document.querySelector('#' + key + ' button');\n",
              "      quickchartButtonEl.disabled = true;  // To prevent multiple clicks.\n",
              "      quickchartButtonEl.classList.add('colab-df-spinner');\n",
              "      try {\n",
              "        const charts = await google.colab.kernel.invokeFunction(\n",
              "            'suggestCharts', [key], {});\n",
              "      } catch (error) {\n",
              "        console.error('Error during call to suggestCharts:', error);\n",
              "      }\n",
              "      quickchartButtonEl.classList.remove('colab-df-spinner');\n",
              "      quickchartButtonEl.classList.add('colab-df-quickchart-complete');\n",
              "    }\n",
              "    (() => {\n",
              "      let quickchartButtonEl =\n",
              "        document.querySelector('#df-d7e2a15e-6943-4423-9db4-918a1911dc7c button');\n",
              "      quickchartButtonEl.style.display =\n",
              "        google.colab.kernel.accessAllowed ? 'block' : 'none';\n",
              "    })();\n",
              "  </script>\n",
              "</div>\n",
              "    </div>\n",
              "  </div>\n"
            ],
            "text/plain": [
              "  userId movieId  rating  timestamp\n",
              "0    196     242     3.0  881250949\n",
              "1    186     302     3.0  891717742\n",
              "2     22     377     1.0  878887116\n",
              "3    244      51     2.0  880606923\n",
              "4    166     346     1.0  886397596\n",
              "5    298     474     4.0  884182806\n",
              "6    115     265     2.0  881171488\n",
              "7    253     465     5.0  891628467\n",
              "8    305     451     3.0  886324817\n",
              "9      6      86     3.0  883603013"
            ]
          },
          "execution_count": 6,
          "metadata": {},
          "output_type": "execute_result"
        }
      ],
      "source": [
        "df.head(10)"
      ]
    },
    {
      "cell_type": "markdown",
      "metadata": {
        "id": "8lk_aMC6VA8a"
      },
      "source": [
        "*  Колонка **userId** - идентификаторы пользователей сайта movielens;\n",
        "*  Колонка **movieId** - идентификаторы фильмов;\n",
        "*  Колонка **rating** - оценки фильмов пользователями по шкале от 1 до 5;\n",
        "*  Колонка **timestamp** - это время оценки фильма пользователем. Данный формат представления времени показывает, сколько секунд прошло с 1 января 1970 года."
      ]
    },
    {
      "cell_type": "markdown",
      "metadata": {
        "id": "cGXqlWpiVA8c"
      },
      "source": [
        "Мы можем посмотреть, сколько уникальных значений находится в каждой из колонок."
      ]
    },
    {
      "cell_type": "code",
      "execution_count": 7,
      "metadata": {
        "ExecuteTime": {
          "end_time": "2021-05-19T22:02:35.215890Z",
          "start_time": "2021-05-19T22:02:35.136012Z"
        },
        "colab": {
          "base_uri": "https://localhost:8080/"
        },
        "id": "VwB6SrRHVA8e",
        "outputId": "7d3f82de-e30a-4f6e-b966-24f807fc0891"
      },
      "outputs": [
        {
          "data": {
            "text/plain": [
              "userId         943\n",
              "movieId       1682\n",
              "rating           5\n",
              "timestamp    49282\n",
              "dtype: int64"
            ]
          },
          "execution_count": 7,
          "metadata": {},
          "output_type": "execute_result"
        }
      ],
      "source": [
        "df.apply(\"nunique\")"
      ]
    },
    {
      "cell_type": "markdown",
      "metadata": {
        "id": "gdNUHvGaVA8l"
      },
      "source": [
        "Для корректной работы с графиками в python требуется загрузить специальную библиотеку\n",
        "**matplotlib**, программную библиотеку на языке python для визуализации данных двумерной и трехмерной графикой."
      ]
    },
    {
      "cell_type": "markdown",
      "metadata": {
        "id": "Tmcpr7aiVA8r"
      },
      "source": [
        "Посмотрим наглядно, как часто в датасете встречаются разные оценки:"
      ]
    },
    {
      "cell_type": "code",
      "execution_count": 8,
      "metadata": {
        "ExecuteTime": {
          "end_time": "2021-05-19T22:02:37.345997Z",
          "start_time": "2021-05-19T22:02:37.184180Z"
        },
        "colab": {
          "base_uri": "https://localhost:8080/",
          "height": 472
        },
        "id": "3XYMil_AVA8s",
        "outputId": "73a3f323-198e-474a-8010-7faea17cfda1"
      },
      "outputs": [
        {
          "data": {
            "image/png": "[encoded data removed]",
            "text/plain": [
              "<Figure size 640x480 with 1 Axes>"
            ]
          },
          "metadata": {},
          "output_type": "display_data"
        }
      ],
      "source": [
        "df[\"rating\"].value_counts().sort_index().plot.bar(\n",
        "    title=\"Распределение рейтингов\", rot=0\n",
        ");"
      ]
    },
    {
      "cell_type": "markdown",
      "metadata": {
        "id": "sc4V13ojVA8x"
      },
      "source": [
        "## Разбиение выборки на обучающую и тестовую"
      ]
    },
    {
      "cell_type": "markdown",
      "metadata": {
        "id": "feldOglfVA8z"
      },
      "source": [
        "Библиотека **surprise** высокоуровневая, и позволяет нам разбить данные на обучающую и тестовую выборки всего одной функцией **train_test_split()**"
      ]
    },
    {
      "cell_type": "code",
      "execution_count": 9,
      "metadata": {
        "ExecuteTime": {
          "end_time": "2021-05-19T22:02:38.425837Z",
          "start_time": "2021-05-19T22:02:38.423431Z"
        },
        "id": "wj01SJESVA80"
      },
      "outputs": [],
      "source": [
        "from surprise.model_selection import train_test_split"
      ]
    },
    {
      "cell_type": "markdown",
      "metadata": {
        "id": "oapSXAZ2VA84"
      },
      "source": [
        "Функция **train_test_split()** принимает на вход два параметра:\n",
        "*  **data** - данные\n",
        "*  **test_size** - доля тестовой выборки. Укажем 0,25, чтобы тестовая выборка составляла 25% от всей выборки."
      ]
    },
    {
      "cell_type": "code",
      "execution_count": 10,
      "metadata": {
        "ExecuteTime": {
          "end_time": "2021-05-19T22:02:39.800246Z",
          "start_time": "2021-05-19T22:02:39.639654Z"
        },
        "id": "tL12glA_VA85"
      },
      "outputs": [],
      "source": [
        "trainset, testset = train_test_split(data, test_size=0.25)"
      ]
    },
    {
      "cell_type": "markdown",
      "metadata": {
        "id": "hbdRSUVLOLCY"
      },
      "source": [
        "# Задание 1\n",
        "\n",
        "Проведите исследование данных (exploratory data analysis, EDA).\n",
        "\n",
        "Выясните:\n",
        "\n",
        "1. Сколько оценок в среднем поставил один человек (и какова выборочная дисперсия этой величины)\n",
        "2. Сколько оценок в среднем имеет один фильм (+дисперсия)\n",
        "\n",
        "Также для каждой из этих величин постройте гистограму (или violin plot) распределения чтобы увидеть картину целиком. Возможно вам понадобится использовать логарифмический масштаб осей (эту настройку можно передать в matplotlib)."
      ]
    },
    {
      "cell_type": "code",
      "execution_count": 32,
      "metadata": {
        "ExecuteTime": {
          "end_time": "2021-05-19T22:02:40.697202Z",
          "start_time": "2021-05-19T22:02:40.695626Z"
        },
        "colab": {
          "base_uri": "https://localhost:8080/",
          "height": 482
        },
        "id": "_MGOMqXwOLCY",
        "outputId": "1033b175-174d-4b35-9543-7374b0a7433e"
      },
      "outputs": [
        {
          "name": "stdout",
          "output_type": "stream",
          "text": [
            "Mean 106.04453870625663\n",
            "std 100.93174276633498\n",
            "Median 65.0\n"
          ]
        },
        {
          "data": {
            "image/png": "[encoded data removed]",
            "text/plain": [
              "<Figure size 640x480 with 1 Axes>"
            ]
          },
          "metadata": {},
          "output_type": "display_data"
        }
      ],
      "source": [
        "users = df.groupby(\"userId\")[\"rating\"].count()\n",
        "print(\"Mean\", users.mean())\n",
        "print(\"std\", users.std())\n",
        "print(\"Median\", users.median())\n",
        "users.hist();"
      ]
    },
    {
      "cell_type": "code",
      "execution_count": 34,
      "metadata": {
        "colab": {
          "base_uri": "https://localhost:8080/",
          "height": 486
        },
        "id": "yhKubMcrQlln",
        "outputId": "c334345f-0c0f-4635-fc80-d0e4d26c6a58"
      },
      "outputs": [
        {
          "name": "stdout",
          "output_type": "stream",
          "text": [
            "Mean 59.45303210463734\n",
            "std 80.38384561004929\n",
            "Median 27.0\n"
          ]
        },
        {
          "data": {
            "image/png": "[encoded data removed]",
            "text/plain": [
              "<Figure size 640x480 with 1 Axes>"
            ]
          },
          "metadata": {},
          "output_type": "display_data"
        }
      ],
      "source": [
        "movies = df.groupby(\"movieId\")[\"rating\"].count()\n",
        "print(\"Mean\", movies.mean())\n",
        "print(\"std\", movies.std())\n",
        "print(\"Median\", movies.median())\n",
        "movies.hist();"
      ]
    },
    {
      "cell_type": "markdown",
      "metadata": {
        "id": "Pjk90jTfVA89"
      },
      "source": [
        "## Построение простой модели"
      ]
    },
    {
      "cell_type": "code",
      "execution_count": 20,
      "metadata": {
        "ExecuteTime": {
          "end_time": "2021-05-19T22:02:41.561498Z",
          "start_time": "2021-05-19T22:02:41.559739Z"
        },
        "id": "R4bUU2_iVA8-"
      },
      "outputs": [],
      "source": [
        "from surprise import SVD, KNNBasic, accuracy"
      ]
    },
    {
      "cell_type": "markdown",
      "metadata": {
        "id": "wIrqEcYHVA9C"
      },
      "source": [
        "Инициализируем алгоритм. Алгоритм SVD - один из самых распространенных методов матричной факторизации (представления матрицы в виде произведения нескольких матриц). Такое представление позволяет анализировать похожие матрицы и раскладывать их на так называемые \"компоненты\". А так же, восстанавливая матрицы их этих компонент - заполнять недостающие значения (в нашем случае - оценки). Почитать можно здесь: http://www.albertauyeung.com/post/python-matrix-factorization/"
      ]
    },
    {
      "cell_type": "code",
      "execution_count": 21,
      "metadata": {
        "ExecuteTime": {
          "end_time": "2021-05-19T22:02:42.425602Z",
          "start_time": "2021-05-19T22:02:42.423778Z"
        },
        "id": "U-C8PSgmVA9D"
      },
      "outputs": [],
      "source": [
        "algo = SVD()"
      ]
    },
    {
      "cell_type": "markdown",
      "metadata": {
        "id": "T46Qt-efVA9G"
      },
      "source": [
        "Тренируем на тренировочной выборке алгоритм."
      ]
    },
    {
      "cell_type": "code",
      "execution_count": 22,
      "metadata": {
        "ExecuteTime": {
          "end_time": "2021-05-19T22:02:46.743669Z",
          "start_time": "2021-05-19T22:02:43.351791Z"
        },
        "colab": {
          "base_uri": "https://localhost:8080/"
        },
        "id": "023_UmhzVA9I",
        "outputId": "c22de2e7-ee41-4eec-8d7c-233e456c2fff"
      },
      "outputs": [
        {
          "data": {
            "text/plain": [
              "<surprise.prediction_algorithms.matrix_factorization.SVD at 0x7b451cf1a4d0>"
            ]
          },
          "execution_count": 22,
          "metadata": {},
          "output_type": "execute_result"
        }
      ],
      "source": [
        "algo.fit(trainset)"
      ]
    },
    {
      "cell_type": "markdown",
      "metadata": {
        "id": "PLr4X8_3VA9M"
      },
      "source": [
        "Делаем предсказание на тестовой выборке."
      ]
    },
    {
      "cell_type": "code",
      "execution_count": 23,
      "metadata": {
        "ExecuteTime": {
          "end_time": "2021-05-19T22:02:46.889187Z",
          "start_time": "2021-05-19T22:02:46.745178Z"
        },
        "id": "bgtICWuYVA9N"
      },
      "outputs": [],
      "source": [
        "predictions = algo.test(testset)"
      ]
    },
    {
      "cell_type": "code",
      "execution_count": 24,
      "metadata": {
        "ExecuteTime": {
          "end_time": "2021-05-19T22:02:46.935936Z",
          "start_time": "2021-05-19T22:02:46.891085Z"
        },
        "colab": {
          "base_uri": "https://localhost:8080/"
        },
        "id": "Vl2LGS6R_w5Y",
        "outputId": "19c5f243-a804-436f-80e9-5310d0335b65"
      },
      "outputs": [
        {
          "data": {
            "text/plain": [
              "[('537', '3', 2.0),\n",
              " ('686', '527', 3.0),\n",
              " ('379', '746', 3.0),\n",
              " ('474', '318', 5.0),\n",
              " ('782', '255', 4.0),\n",
              " ('256', '568', 5.0),\n",
              " ('119', '28', 5.0),\n",
              " ('474', '64', 5.0),\n",
              " ('387', '92', 4.0),\n",
              " ('405', '95', 3.0)]"
            ]
          },
          "execution_count": 24,
          "metadata": {},
          "output_type": "execute_result"
        }
      ],
      "source": [
        "testset[:10]"
      ]
    },
    {
      "cell_type": "code",
      "execution_count": 25,
      "metadata": {
        "ExecuteTime": {
          "end_time": "2021-05-19T22:02:47.649261Z",
          "start_time": "2021-05-19T22:02:47.631815Z"
        },
        "colab": {
          "base_uri": "https://localhost:8080/"
        },
        "id": "rvvw4w3aVA9R",
        "outputId": "2f93914a-d395-47ce-889b-839bbb285dc0"
      },
      "outputs": [
        {
          "name": "stdout",
          "output_type": "stream",
          "text": [
            "RMSE: 0.9371\n"
          ]
        }
      ],
      "source": [
        "accuracy.rmse(predictions);"
      ]
    },
    {
      "cell_type": "markdown",
      "metadata": {
        "id": "gxA9DhnrVA9W"
      },
      "source": [
        "## Кросс-валидация"
      ]
    },
    {
      "cell_type": "markdown",
      "metadata": {
        "id": "3nfQSI8gVA9X"
      },
      "source": [
        "Обучая любой алгоритм машинного обучения мы, фактически, \"подгоняем\" модель под данные, которые ей подаём. Но, если подгонять слишком сильно, то модель переобучится. То есть модель начнёт запоминать ответы вместо того, чтобы выявлять закономерности.\n",
        "\n",
        "На графиках ниже точки тренировочной выборки:\n",
        "*  слева - недообученная модель (большая ошибка на тренировочной выборке; большая ошибка на тестовой выборке)\n",
        "*  посередине - хорошо обученная модель (маленькая ошибка на тренировочной выборке; маленькая ошибка на тестовой выборке)\n",
        "*  справа - переобученная модель (очень маленькая или нулевая ошибка на тренировочной выборке; большая ошибка на тестовой выборке)"
      ]
    },
    {
      "cell_type": "markdown",
      "metadata": {
        "id": "7sdQG7kTVA9Y"
      },
      "source": [
        "<p align=\"center\">\n",
        "  <img src=\"https://drive.google.com/uc?id=1Eg4Xg4o-lhzrgqNNmNQCtB1RxNJmnmWx\" alt=\"Drawing\" style=\"width: 700px;\" width=\"700\"/>\n",
        "</p>"
      ]
    },
    {
      "cell_type": "markdown",
      "metadata": {
        "id": "mYNhrqsNVA9Z"
      },
      "source": [
        "Таким образом, обучая модель, мы всегда уменьшаем ошибку на тренировочной выборке. Вместе с ошибкой на тренировочной выборке, падает и ошибка на тестовой. Но после какого-то момента, модель начинает переобучатся, и ошибка на тестовой выборке начинает расти, в то время, как ошибка на тренировочной выборке продолжает падать."
      ]
    },
    {
      "cell_type": "markdown",
      "metadata": {
        "id": "Xmuhn5RUVA9Z"
      },
      "source": [
        "<p align=\"center\">\n",
        "  <img src=\"https://drive.google.com/uc?id=1mvU_jJIe07tAoX82qODcpmTBctx0ReuT\" alt=\"Drawing\" style=\"width: 700px;\" width=\"700\"/>\n",
        "</p>"
      ]
    },
    {
      "cell_type": "markdown",
      "metadata": {
        "id": "k-m8IjEkVA9a"
      },
      "source": [
        "Может получится ситуация, когда мы видим маленькую ошибку нашей модели, и думаем, что она хорошая, но на самом деле она просто переобучилась, и на новых данных покажет плохой результат.\n",
        "\n",
        "Чтобы избежать такой ситуации можно использовать отложенную выборку. То есть мы разбиваем наши данные на **тренировочную** выборку, **тестовую** выборку и **отложенную** выборку. Соответственно, обучаем модель на тренировочной, в ходе обучения проверяем результат на тестовой выборке, а в конце обучения, чтобы оценить качество модели, ошибку считаем на отложенной выборке."
      ]
    },
    {
      "cell_type": "markdown",
      "metadata": {
        "id": "6qQjDxYpVA9c"
      },
      "source": [
        "При таком подходе в обучении модели участвует только тренировочная выборка. Тестовую и отложенную мы используем только для проверки. Если у нас мало данных, отложенная выборка - непозволительная роскошь.\n",
        "\n",
        "Другой популярный подход это **кросс-валидация** или скользящий контроль. Суть метода заключается в том, что мы дераем не одно разбиение датесета, а несколько разбиений таким образом, чтобы все данные использовались и в обучении и для проверки. Такие разбиения называются **фолдами**.\n",
        "\n",
        "Преимущества такого подхожа в том, что мы используем все данные для обучения. Также это позволяет оценить устойчивость модели. Если ошибки полученные на разных фолдах сильно отличаются, что модель неустойчива.\n",
        "Недостаток метода в том, что нам нужно обучать не одну модель, а несколько (столько, сколько мы выбрали фолдов).\n",
        "\n",
        "На практике часто выбирают 5 фолдов."
      ]
    },
    {
      "cell_type": "markdown",
      "metadata": {
        "id": "ZrMKa--nVA9d"
      },
      "source": [
        "<p align=\"center\">\n",
        "  <img src=\"https://drive.google.com/uc?id=1C9eHgCi30X08XaSScmjqIOT3ayBtBiFw\" alt=\"Drawing\" style=\"width: 500px;\" width=\"300\"/>\n",
        "</p>"
      ]
    },
    {
      "cell_type": "code",
      "execution_count": 26,
      "metadata": {
        "id": "3Nm_zw-BVA9e"
      },
      "outputs": [],
      "source": [
        "from surprise.model_selection import cross_validate"
      ]
    },
    {
      "cell_type": "markdown",
      "metadata": {
        "id": "VEPy4jGKVA9h"
      },
      "source": [
        "Используем функцию **cross_validate** из модуля **model_selection** библиотеки **surprise**.\n",
        "\n",
        "Функция принимает на вход:\n",
        "*  algo - алгоритм, который будем обучать.\n",
        "*  data - исходные данные. Обратите внимание, что данные передаём не разбитые на выборки.\n",
        "*  measures - метрики ошибок по которым мы хотим сравнивать модели. Мы передаём среднеквадратичную ошибку и среднюю ошибку.\n",
        "* cv - количество фолдов.\n",
        "*  verbose - параметр указывающий хотим ли мы увидеть подробный результат выполнения функции."
      ]
    },
    {
      "cell_type": "code",
      "execution_count": 27,
      "metadata": {
        "colab": {
          "base_uri": "https://localhost:8080/"
        },
        "id": "0dzKI1AmVA9i",
        "outputId": "4d739770-ea2e-4881-e070-0078cdfb631c"
      },
      "outputs": [
        {
          "name": "stdout",
          "output_type": "stream",
          "text": [
            "Evaluating RMSE, MAE of algorithm SVD on 5 split(s).\n",
            "\n",
            "                  Fold 1  Fold 2  Fold 3  Fold 4  Fold 5  Mean    Std     \n",
            "RMSE (testset)    0.9430  0.9279  0.9353  0.9363  0.9395  0.9364  0.0050  \n",
            "MAE (testset)     0.7419  0.7317  0.7372  0.7391  0.7410  0.7382  0.0036  \n",
            "Fit time          1.97    1.68    1.48    1.50    1.50    1.63    0.19    \n",
            "Test time         0.17    0.15    0.15    0.17    0.48    0.22    0.13    \n"
          ]
        },
        {
          "data": {
            "text/plain": [
              "{'test_rmse': array([0.94297116, 0.9279094 , 0.93526078, 0.93631906, 0.93947508]),\n",
              " 'test_mae': array([0.74191693, 0.731671  , 0.73720483, 0.73908611, 0.74100438]),\n",
              " 'fit_time': (1.974339485168457,\n",
              "  1.6797535419464111,\n",
              "  1.478240966796875,\n",
              "  1.5003767013549805,\n",
              "  1.5012593269348145),\n",
              " 'test_time': (0.17291045188903809,\n",
              "  0.15194153785705566,\n",
              "  0.1527869701385498,\n",
              "  0.16635870933532715,\n",
              "  0.4766199588775635)}"
            ]
          },
          "execution_count": 27,
          "metadata": {},
          "output_type": "execute_result"
        }
      ],
      "source": [
        "algo = SVD()\n",
        "cross_validate(algo, data, measures=[\"RMSE\", \"MAE\"], cv=5, verbose=True)"
      ]
    },
    {
      "cell_type": "markdown",
      "metadata": {
        "id": "D1ICfHrkVA9l"
      },
      "source": [
        "В результате получаем значения ошибок на каждом из фолдов, а также их среднее и стандартное отклонение (СО). Маленькое СО, как в нашем случае, говорит об устойчивости модели.\n",
        "\n",
        "Дополнительно мы видим время тренировки и время предсказания модели на каждом из фолдов."
      ]
    },
    {
      "cell_type": "markdown",
      "metadata": {
        "id": "qgBGv8BZVA9m"
      },
      "source": [
        "## Поиск по сетке (Grid search)"
      ]
    },
    {
      "cell_type": "markdown",
      "metadata": {
        "id": "j4L5ffx8VA9n"
      },
      "source": [
        "Теперь, когда у нас есть надёжный способ оценивать качество модели, мы можем перейти к подбору гиперпараметров модели, т.е. параметров, которые нужно указывать вручную, потому что нельзя обучить во время тренировки модели.\n",
        "\n",
        "Метод поиска по сетке очень прост. Мы передаём варианты каждого из параметров, который мы хотим перебрать, а функция перебирает все возможные варианты переданных параметров. Например, на картинке ниже перебираются параметры \"регуляризация\" и \"скорость обучения\"."
      ]
    },
    {
      "cell_type": "markdown",
      "metadata": {
        "id": "NfWrGyLhVA9s"
      },
      "source": [
        "<p align=\"center\">\n",
        "  <img src=\"https://drive.google.com/uc?id=1xs9z_Zo1A2QinErKYEB-bp6eGnLWodbO\" alt=\"Drawing\" style=\"width: 700px;\" width=\"700\"/>\n",
        "</p>"
      ]
    },
    {
      "cell_type": "markdown",
      "metadata": {
        "id": "4OCKlBDKOLCt"
      },
      "source": [
        "# Задание 2\n",
        "\n",
        "## Часть 1\n",
        "\n",
        "Оптимизируйте следующие параметры алгоритма SVD:\n",
        "\n",
        "* n_epochs - количество эпох обучения\n",
        "* lr_all - скорость обучения\n",
        "* reg_all - регуляризация\n",
        "\n",
        "Более детальное описание алгоритма смотри в [документации](https://surprise.readthedocs.io/en/stable/matrix_factorization.html#surprise.prediction_algorithms.matrix_factorization.SVD)\n",
        "\n",
        "P.S. не нужно делать слишком большую сетку перебора - если время расчёта отнимает больше 10 мин, то это уже очень много (для базового датасета)."
      ]
    },
    {
      "cell_type": "code",
      "execution_count": 28,
      "metadata": {
        "id": "7g8NQTNrVA9t"
      },
      "outputs": [],
      "source": [
        "from surprise.model_selection import GridSearchCV"
      ]
    },
    {
      "cell_type": "markdown",
      "metadata": {
        "id": "hvEIIGGeVA92"
      },
      "source": [
        "Для перебора по сетке используем функцию **GridSearchCV**.\n",
        "На вход подаём:\n",
        "* алгоритм.\n",
        "* параметры, которые хотим перебрать.\n",
        "* метрики ошибок.\n",
        "* количество фолдов для кросс-валидации.\n",
        "\n",
        "Обратите внимание, что функция выполняет кросс-валидация автоматически."
      ]
    },
    {
      "cell_type": "code",
      "execution_count": 35,
      "metadata": {
        "id": "tUo_Y70UVA-B"
      },
      "outputs": [],
      "source": [
        "params = {\n",
        "    \"n_epochs\": [20, 30, 50],\n",
        "    \"lr_all\": [0.001, 0.01, 0.05],\n",
        "    \"reg_all\": [0.01, 0.1, 0.05],\n",
        "}\n",
        "grid = GridSearchCV(\n",
        "    SVD,\n",
        "    param_grid=params,\n",
        "    measures=[\"rmse\", \"mae\"],\n",
        "    cv=3,\n",
        "    n_jobs=-1,\n",
        "    return_train_measures=True,\n",
        ")\n",
        "grid.fit(data)"
      ]
    },
    {
      "cell_type": "code",
      "execution_count": 39,
      "metadata": {
        "colab": {
          "base_uri": "https://localhost:8080/"
        },
        "id": "xP0KwroTUpWc",
        "outputId": "54a12325-91c2-4c3d-94f4-11ab5e53d3f7"
      },
      "outputs": [
        {
          "data": {
            "text/plain": [
              "({'rmse': 0.9201236697539286, 'mae': 0.7267910017142842},\n",
              " {'rmse': {'n_epochs': 50, 'lr_all': 0.01, 'reg_all': 0.1},\n",
              "  'mae': {'n_epochs': 50, 'lr_all': 0.01, 'reg_all': 0.1}})"
            ]
          },
          "execution_count": 39,
          "metadata": {},
          "output_type": "execute_result"
        }
      ],
      "source": [
        "grid.best_score, grid.best_params"
      ]
    },
    {
      "cell_type": "markdown",
      "metadata": {
        "id": "J0iVwV-GOLCv"
      },
      "source": [
        "## Часть 2\n",
        "\n",
        "Выберите другую модель из scikit surprise для предсказания рекомендаций (полный список смотри в [документации](https://surprise.readthedocs.io/en/stable/prediction_algorithms_package.html)).\\\n",
        "И настройте её параметры с помощью поиска по сетке.\n",
        "\n",
        "Сравните результаты с предыдущей моделью."
      ]
    },
    {
      "cell_type": "code",
      "execution_count": 40,
      "metadata": {
        "ExecuteTime": {
          "end_time": "2021-05-19T22:04:44.054734Z",
          "start_time": "2021-05-19T22:04:44.053080Z"
        },
        "id": "oUiy9PLNOLCv"
      },
      "outputs": [],
      "source": [
        "params = {\"k\": [10, 20, 40], \"min_k\": [1, 2, 5]}\n",
        "grid = GridSearchCV(\n",
        "    KNNBasic,\n",
        "    param_grid=params,\n",
        "    measures=[\"rmse\", \"mae\"],\n",
        "    cv=3,\n",
        "    n_jobs=-1,\n",
        "    return_train_measures=True,\n",
        ")\n",
        "grid.fit(data)"
      ]
    },
    {
      "cell_type": "code",
      "execution_count": 41,
      "metadata": {
        "colab": {
          "base_uri": "https://localhost:8080/"
        },
        "id": "4Z1fV2usWge4",
        "outputId": "81672568-ea50-4ae1-bb1c-b71003e9a610"
      },
      "outputs": [
        {
          "data": {
            "text/plain": [
              "({'rmse': 0.986702471386185, 'mae': 0.7795752854124958},\n",
              " {'rmse': {'k': 20, 'min_k': 2}, 'mae': {'k': 20, 'min_k': 2}})"
            ]
          },
          "execution_count": 41,
          "metadata": {},
          "output_type": "execute_result"
        }
      ],
      "source": [
        "grid.best_score, grid.best_params"
      ]
    },
    {
      "cell_type": "code",
      "execution_count": 44,
      "metadata": {
        "id": "1Xj1e1S7Xw51"
      },
      "outputs": [],
      "source": [
        "knn_model = grid.best_estimator[\"rmse\"]"
      ]
    },
    {
      "cell_type": "markdown",
      "metadata": {
        "id": "nSWZjro2OLCv"
      },
      "source": [
        "# Задание 3\n",
        "\n",
        "С помощью натренированной модели (любой из предыдущих) постройте по 3 рекомендации для каждого клиента из тестовой выборки.\n",
        "\n",
        "Проанализируйте полученные результаты: сколько раз был порекомендован каждый фильм? Каково распределение этих частот? (постройте гистограму)"
      ]
    },
    {
      "cell_type": "code",
      "execution_count": 46,
      "metadata": {
        "id": "L-CyON1oOLCw"
      },
      "outputs": [],
      "source": [
        "def get_top_n(predictions, n=3):\n",
        "    \"\"\"Returns top-n recommendatoins for each user from a set of predictions\"\"\"\n",
        "    top_n = {}\n",
        "    for uid, iid, true_r, est, _ in predictions:\n",
        "        top_n[uid] = top_n.get(uid, []) + [(iid, est)]\n",
        "\n",
        "    for uid, user_ratings in top_n.items():\n",
        "        user_ratings.sort(key=lambda x: x[1], reverse=True)\n",
        "        top_n[uid] = user_ratings[:n]\n",
        "\n",
        "    return top_n"
      ]
    },
    {
      "cell_type": "code",
      "execution_count": 47,
      "metadata": {
        "id": "Uw_lHkdaYgXA"
      },
      "outputs": [],
      "source": [
        "algo = SVD(lr_all=0.01, n_epochs=50, reg_all=0.1, random_state=42)\n",
        "algo.fit(trainset)\n",
        "preds = algo.test(testset)"
      ]
    },
    {
      "cell_type": "code",
      "execution_count": 49,
      "metadata": {
        "id": "G_OsXeYWZr3x"
      },
      "outputs": [],
      "source": [
        "top_n = get_top_n(preds, n=3)"
      ]
    },
    {
      "cell_type": "code",
      "execution_count": 54,
      "metadata": {
        "colab": {
          "base_uri": "https://localhost:8080/"
        },
        "id": "Y0sXdN3qaEep",
        "outputId": "f3659dbd-2946-412e-c06e-b80d9f75dfb9"
      },
      "outputs": [
        {
          "data": {
            "text/plain": [
              "424"
            ]
          },
          "execution_count": 54,
          "metadata": {},
          "output_type": "execute_result"
        }
      ],
      "source": [
        "all_recommends = []\n",
        "for user_ratings in top_n.values():\n",
        "    movies = [iid for (iid, _) in user_ratings]\n",
        "    all_recommends += movies\n",
        "\n",
        "unique_movies = set(all_recommends)\n",
        "len(unique_movies)"
      ]
    },
    {
      "cell_type": "code",
      "execution_count": 55,
      "metadata": {
        "colab": {
          "base_uri": "https://localhost:8080/"
        },
        "id": "uxueOocXa2Lw",
        "outputId": "cbe9fb96-7cf4-415e-b57e-28ff116dc0d1"
      },
      "outputs": [
        {
          "data": {
            "text/plain": [
              "50     101\n",
              "127     76\n",
              "318     68\n",
              "313     64\n",
              "64      62\n",
              "174     60\n",
              "100     58\n",
              "98      57\n",
              "12      53\n",
              "483     41\n",
              "Name: count, dtype: int64"
            ]
          },
          "execution_count": 55,
          "metadata": {},
          "output_type": "execute_result"
        }
      ],
      "source": [
        "freq_recommends = pd.Series(all_recommends).value_counts()\n",
        "freq_recommends.head(10)"
      ]
    },
    {
      "cell_type": "code",
      "execution_count": 56,
      "metadata": {
        "id": "5U_DdDsGbIkJ"
      },
      "outputs": [],
      "source": [
        "import matplotlib.pyplot as plt"
      ]
    },
    {
      "cell_type": "code",
      "execution_count": 60,
      "metadata": {
        "colab": {
          "base_uri": "https://localhost:8080/",
          "height": 539
        },
        "id": "ME4q5y2fbSr-",
        "outputId": "44cf87d1-e51e-4f58-baec-bc0fc5a8befd"
      },
      "outputs": [
        {
          "data": {
            "text/plain": [
              "<BarContainer object of 424 artists>"
            ]
          },
          "execution_count": 60,
          "metadata": {},
          "output_type": "execute_result"
        },
        {
          "data": {
            "image/png": "[encoded data removed]",
            "text/plain": [
              "<Figure size 1600x600 with 1 Axes>"
            ]
          },
          "metadata": {},
          "output_type": "display_data"
        }
      ],
      "source": [
        "plt.figure(figsize=(16, 6))\n",
        "plt.bar(freq_recommends.index, freq_recommends.values)"
      ]
    },
    {
      "cell_type": "code",
      "execution_count": 59,
      "metadata": {
        "colab": {
          "base_uri": "https://localhost:8080/",
          "height": 539
        },
        "id": "uvOH2AJKbbCv",
        "outputId": "8d894b54-4a61-4a0d-c58a-d714f324c284"
      },
      "outputs": [
        {
          "data": {
            "text/plain": [
              "<BarContainer object of 30 artists>"
            ]
          },
          "execution_count": 59,
          "metadata": {},
          "output_type": "execute_result"
        },
        {
          "data": {
            "image/png": "[encoded data removed]",
            "text/plain": [
              "<Figure size 1600x600 with 1 Axes>"
            ]
          },
          "metadata": {},
          "output_type": "display_data"
        }
      ],
      "source": [
        "plt.figure(figsize=(16, 6))\n",
        "plt.bar(freq_recommends.index[:30], freq_recommends.values[:30])"
      ]
    }
  ],
  "metadata": {
    "colab": {
      "collapsed_sections": [
        "sc4V13ojVA8x",
        "gxA9DhnrVA9W",
        "qgBGv8BZVA9m"
      ],
      "provenance": []
    },
    "kernelspec": {
      "display_name": "Python [conda env:ml-mipt]",
      "language": "python",
      "name": "conda-env-ml-mipt-py"
    },
    "language_info": {
      "codemirror_mode": {
        "name": "ipython",
        "version": 3
      },
      "file_extension": ".py",
      "mimetype": "text/x-python",
      "name": "python",
      "nbconvert_exporter": "python",
      "pygments_lexer": "ipython3",
      "version": "3.8.5"
    },
    "toc": {
      "base_numbering": 1,
      "nav_menu": {},
      "number_sections": true,
      "sideBar": true,
      "skip_h1_title": false,
      "title_cell": "Table of Contents",
      "title_sidebar": "Contents",
      "toc_cell": false,
      "toc_position": {},
      "toc_section_display": true,
      "toc_window_display": true
    }
  },
  "nbformat": 4,
  "nbformat_minor": 0
}
